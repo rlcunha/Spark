{
 "cells": [
  {
   "cell_type": "code",
   "execution_count": 1,
   "id": "a0d64d7d-6435-4d2b-8edf-07afbf64fa34",
   "metadata": {},
   "outputs": [],
   "source": [
    "import pyspark.sql.functions as f\n",
    "from pyspark.sql import Window\n",
    "from pyspark.sql import SparkSession"
   ]
  },
  {
   "cell_type": "code",
   "execution_count": 2,
   "id": "8c02cac3-d503-42f9-88a0-7f8d3f616995",
   "metadata": {},
   "outputs": [
    {
     "name": "stderr",
     "output_type": "stream",
     "text": [
      "WARNING: An illegal reflective access operation has occurred\n",
      "WARNING: Illegal reflective access by org.apache.spark.unsafe.Platform (file:/opt/conda/lib/python3.9/site-packages/pyspark/jars/spark-unsafe_2.12-3.2.1.jar) to constructor java.nio.DirectByteBuffer(long,int)\n",
      "WARNING: Please consider reporting this to the maintainers of org.apache.spark.unsafe.Platform\n",
      "WARNING: Use --illegal-access=warn to enable warnings of further illegal reflective access operations\n",
      "WARNING: All illegal access operations will be denied in a future release\n",
      "Using Spark's default log4j profile: org/apache/spark/log4j-defaults.properties\n",
      "Setting default log level to \"WARN\".\n",
      "To adjust logging level use sc.setLogLevel(newLevel). For SparkR, use setLogLevel(newLevel).\n",
      "22/06/19 23:46:33 WARN NativeCodeLoader: Unable to load native-hadoop library for your platform... using builtin-java classes where applicable\n",
      "22/06/19 23:46:36 WARN Utils: Service 'SparkUI' could not bind on port 4040. Attempting port 4041.\n"
     ]
    }
   ],
   "source": [
    "spark = SparkSession.builder.getOrCreate()\n",
    "w = Window().orderBy(f.lit('A'))"
   ]
  },
  {
   "cell_type": "code",
   "execution_count": 3,
   "id": "9fa14f6c-a6b1-408e-8c07-5421e612d3fe",
   "metadata": {
    "tags": []
   },
   "outputs": [
    {
     "name": "stderr",
     "output_type": "stream",
     "text": [
      "                                                                                \r"
     ]
    }
   ],
   "source": [
    "#Leitura de CSV\n",
    "df0 = spark.read.csv('work/Lista Pedidos.csv',sep=';',header='false');"
   ]
  },
  {
   "cell_type": "code",
   "execution_count": 4,
   "id": "407158fc-d557-4c0d-9765-688240fb053c",
   "metadata": {},
   "outputs": [
    {
     "name": "stderr",
     "output_type": "stream",
     "text": [
      "[Stage 1:>                                                          (0 + 1) / 1]\r"
     ]
    },
    {
     "name": "stdout",
     "output_type": "stream",
     "text": [
      "Lista de Pedidos Formatados : 11862\n"
     ]
    },
    {
     "name": "stderr",
     "output_type": "stream",
     "text": [
      "                                                                                \r"
     ]
    }
   ],
   "source": [
    "df1 = df0.select(df0._c0.cast(\"integer\").alias('CODIGO'),\\\n",
    "                        df0._c1.cast(\"string\").alias('ORIGEM'),\\\n",
    "                        df0._c2.cast(\"string\").alias('TIPO'),\\\n",
    "                        df0._c3.cast(\"integer\").alias('QTITEM'),\\\n",
    "                        f.regexp_replace(f.regexp_replace(df0._c4,'[R$]',''), ',', '.').cast('double').alias('VLFINAL'),\\\n",
    "                        df0._c5.cast(\"string\").alias('STATUS'),\\\n",
    "                        f.substring(df0._c6,1,2).cast(\"int\").alias('DIA'),\\\n",
    "                        f.substring(df0._c6,4,2).cast(\"int\").alias('MES'),\\\n",
    "                        f.substring(df0._c6,7,4).cast(\"int\").alias('ANO'),\\\n",
    "                        f.substring(df0._c6,12,2).cast(\"int\").alias('HORA'),\\\n",
    "                        f.substring(df0._c6,15,2).cast(\"int\").alias('MINUTO'),\\\n",
    "                        df0._c7.cast(\"string\").alias('TEMPO'),\\\n",
    "                        df0._c8.cast(\"string\").alias('UNIDADE'),\\\n",
    "                        df0._c9.cast(\"string\").alias('EXCLUSAO'))\n",
    "print(f'Lista de Pedidos Formatados : {df1.count()}')"
   ]
  },
  {
   "cell_type": "code",
   "execution_count": 5,
   "id": "fab9187a-afef-478f-b6c6-d33a360ef7f4",
   "metadata": {},
   "outputs": [],
   "source": [
    "df2 = df1.distinct()"
   ]
  },
  {
   "cell_type": "code",
   "execution_count": 6,
   "id": "6d06e2c0-fb24-49c4-852a-ad1ef1010136",
   "metadata": {},
   "outputs": [
    {
     "name": "stderr",
     "output_type": "stream",
     "text": [
      "[Stage 6:>                                                          (0 + 1) / 1]\r"
     ]
    },
    {
     "name": "stdout",
     "output_type": "stream",
     "text": [
      "Lista de Pedidos : 11860\n"
     ]
    },
    {
     "name": "stderr",
     "output_type": "stream",
     "text": [
      "                                                                                \r"
     ]
    }
   ],
   "source": [
    "df3 = df2.dropna(how='all', subset='CODIGO')\n",
    "print(f'Lista de Pedidos : {df3.count()}')"
   ]
  },
  {
   "cell_type": "code",
   "execution_count": 7,
   "id": "c49a26f4-e12c-4e46-8cc4-3cb50f5e4261",
   "metadata": {},
   "outputs": [],
   "source": [
    "df_pedidos = df3.select(f.row_number().over(w).alias('ID'),'*')"
   ]
  },
  {
   "cell_type": "code",
   "execution_count": 8,
   "id": "02bab6b0-3183-4372-9617-566b8fdabb66",
   "metadata": {},
   "outputs": [
    {
     "name": "stderr",
     "output_type": "stream",
     "text": [
      "22/06/19 23:47:20 WARN WindowExec: No Partition Defined for Window operation! Moving all data to a single partition, this can cause serious performance degradation.\n",
      "22/06/19 23:47:20 WARN WindowExec: No Partition Defined for Window operation! Moving all data to a single partition, this can cause serious performance degradation.\n",
      "22/06/19 23:47:24 WARN WindowExec: No Partition Defined for Window operation! Moving all data to a single partition, this can cause serious performance degradation.\n",
      "22/06/19 23:47:25 WARN WindowExec: No Partition Defined for Window operation! Moving all data to a single partition, this can cause serious performance degradation.\n",
      "                                                                                \r"
     ]
    }
   ],
   "source": [
    "df_pedidos.write.format(\"parquet\").mode(\"overwrite\").parquet('work/listapedidos')"
   ]
  },
  {
   "cell_type": "code",
   "execution_count": 9,
   "id": "c07bd627-968f-49c6-9a4b-101a32999bf5",
   "metadata": {},
   "outputs": [],
   "source": [
    "dfMelhorDia = df_pedidos.groupBy(\"MES\",\"DIA\").agg(f.format_number(f.sum(\"VLFINAL\"),2).alias(\"total\"),\\\n",
    "                             f.format_number(f.avg(\"VLFINAL\"),2).alias(\"media\"),\\\n",
    "                             f.format_number(f.min(\"VLFINAL\"),2).alias(\"menor\"),\\\n",
    "                             f.format_number(f.max(\"VLFINAL\"),2).alias(\"maior\")).\\\n",
    "    orderBy([\"MES\",\"total\"],ascending=[0, 0])"
   ]
  },
  {
   "cell_type": "code",
   "execution_count": 10,
   "id": "1425a6af-6d05-4e12-b1ad-0e3b9b5789ad",
   "metadata": {},
   "outputs": [
    {
     "name": "stderr",
     "output_type": "stream",
     "text": [
      "                                                                                \r"
     ]
    },
    {
     "name": "stdout",
     "output_type": "stream",
     "text": [
      "+---+---+--------+-----+-----+------+\n",
      "|MES|DIA|   total|media|menor| maior|\n",
      "+---+---+--------+-----+-----+------+\n",
      "|  3| 19|4,445.87|24.70| 3.00| 83.00|\n",
      "|  3| 12|4,290.17|26.16| 4.00|104.00|\n",
      "|  3| 18|3,947.01|23.92| 4.00| 90.00|\n",
      "|  3| 25|3,895.00|24.97| 0.00|133.00|\n",
      "|  3| 11|3,814.50|23.40| 4.00| 85.99|\n",
      "|  3| 21|3,786.66|20.36| 4.00| 79.50|\n",
      "|  3|  2|3,753.67|24.53| 3.00| 77.50|\n",
      "|  3| 22|3,540.71|21.72| 3.00| 67.50|\n",
      "|  3| 24|3,478.49|19.99| 3.75| 55.00|\n",
      "|  3|  7|3,472.14|24.45| 4.00|108.00|\n",
      "|  3| 10|3,462.20|22.93| 4.00| 77.99|\n",
      "|  3| 31|3,433.21|21.59| 0.00| 89.99|\n",
      "|  3| 27|3,377.55|33.11| 4.00|138.48|\n",
      "|  3| 28|3,245.98|22.54| 4.00| 66.00|\n",
      "|  3| 15|3,234.56|21.86| 3.00| 88.99|\n",
      "|  3|  5|3,219.76|22.84| 4.00| 84.00|\n",
      "|  3|  8|3,178.56|22.38| 3.00|122.99|\n",
      "|  3| 30|3,119.19|22.77| 4.00| 79.99|\n",
      "|  3| 17|3,108.72|22.05| 4.00| 64.00|\n",
      "|  3|  3|3,091.66|22.08| 4.00|115.99|\n",
      "+---+---+--------+-----+-----+------+\n",
      "only showing top 20 rows\n",
      "\n"
     ]
    }
   ],
   "source": [
    "dfMelhorDia.show()\n"
   ]
  },
  {
   "cell_type": "code",
   "execution_count": 21,
   "id": "6050bb9c-f071-4519-9d28-bf30801d2b64",
   "metadata": {},
   "outputs": [
    {
     "name": "stderr",
     "output_type": "stream",
     "text": [
      "22/06/20 01:27:34 WARN WindowExec: No Partition Defined for Window operation! Moving all data to a single partition, this can cause serious performance degradation.\n",
      "22/06/20 01:27:34 WARN WindowExec: No Partition Defined for Window operation! Moving all data to a single partition, this can cause serious performance degradation.\n",
      "22/06/20 01:27:34 WARN WindowExec: No Partition Defined for Window operation! Moving all data to a single partition, this can cause serious performance degradation.\n",
      "22/06/20 01:27:35 WARN WindowExec: No Partition Defined for Window operation! Moving all data to a single partition, this can cause serious performance degradation.\n"
     ]
    },
    {
     "name": "stdout",
     "output_type": "stream",
     "text": [
      "+---+------+------+----+------+-------+------+---+---+---+----+------+-----+-------+--------+\n",
      "| ID|CODIGO|ORIGEM|TIPO|QTITEM|VLFINAL|STATUS|DIA|MES|ANO|HORA|MINUTO|TEMPO|UNIDADE|EXCLUSAO|\n",
      "+---+------+------+----+------+-------+------+---+---+---+----+------+-----+-------+--------+\n",
      "+---+------+------+----+------+-------+------+---+---+---+----+------+-----+-------+--------+\n",
      "\n"
     ]
    }
   ],
   "source": [
    "df_pedidos.filter(f.col(\"CODIGO\")==146979).show()"
   ]
  }
 ],
 "metadata": {
  "kernelspec": {
   "display_name": "Python 3 (ipykernel)",
   "language": "python",
   "name": "python3"
  },
  "language_info": {
   "codemirror_mode": {
    "name": "ipython",
    "version": 3
   },
   "file_extension": ".py",
   "mimetype": "text/x-python",
   "name": "python",
   "nbconvert_exporter": "python",
   "pygments_lexer": "ipython3",
   "version": "3.9.10"
  }
 },
 "nbformat": 4,
 "nbformat_minor": 5
}
