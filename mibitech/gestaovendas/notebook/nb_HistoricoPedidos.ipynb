{
 "cells": [
  {
   "cell_type": "code",
   "execution_count": null,
   "id": "a0d64d7d-6435-4d2b-8edf-07afbf64fa34",
   "metadata": {},
   "outputs": [],
   "source": [
    "import pyspark.sql.functions as f\n",
    "from pyspark.sql import Window\n",
    "from pyspark.sql import SparkSession"
   ]
  },
  {
   "cell_type": "code",
   "execution_count": null,
   "id": "8c02cac3-d503-42f9-88a0-7f8d3f616995",
   "metadata": {},
   "outputs": [],
   "source": [
    "spark = SparkSession.builder.getOrCreate()\n",
    "w = Window().orderBy(f.lit('A'))"
   ]
  },
  {
   "cell_type": "code",
   "execution_count": null,
   "id": "9fa14f6c-a6b1-408e-8c07-5421e612d3fe",
   "metadata": {
    "tags": []
   },
   "outputs": [],
   "source": [
    "#Leitura de CSV\n",
    "df0 = spark.read.csv('work/HistoricoPedidos.csv',sep=';',header='false');"
   ]
  },
  {
   "cell_type": "code",
   "execution_count": null,
   "id": "407158fc-d557-4c0d-9765-688240fb053c",
   "metadata": {},
   "outputs": [],
   "source": [
    "  df1 = df0.select(df0._c0.cast(\"string\").alias('CLIENTE'),\\\n",
    "                          df0._c1.cast(\"string\").alias('TIPO'),\\\n",
    "                          f.substring(df0._c2,9,2).cast(\"int\").alias('DIA_ABE'),\\\n",
    "                          f.substring(df0._c2,6,2).cast(\"int\").alias('MES_ABE'),\\\n",
    "                          f.substring(df0._c2,1,4).cast(\"int\").alias('ANO_ABE'),\\\n",
    "                          f.substring(df0._c2,12,2).cast(\"int\").alias('HH_ABE'),\\\n",
    "                          f.substring(df0._c2,15,2).cast(\"int\").alias('MM_ABE'),\\\n",
    "                          f.substring(df0._c3,9,2).cast(\"int\").alias('DIA_FIM'),\\\n",
    "                          f.substring(df0._c3,6,2).cast(\"int\").alias('MES_FIM'),\\\n",
    "                          f.substring(df0._c3,1,4).cast(\"int\").alias('ANO_FIM'),\\\n",
    "                          f.substring(df0._c3,12,2).cast(\"int\").alias('HH_FIM'),\\\n",
    "                          f.substring(df0._c3,15,2).cast(\"int\").alias('MM_FIM'),\\\n",
    "                          df0._c4.cast(\"string\").alias('FORMAPG'),\\\n",
    "                          df0._c5.cast(\"integer\").alias('ENTREGA'),\\\n",
    "                          df0._c6.cast(\"string\").alias('STATUS'),\\\n",
    "                          f.regexp_replace(f.regexp_replace(f.regexp_replace(f.trim(df0._c5),'[R$ ]',''),'[.]',''),',','.').alias('VALORFINAL'),\\\n",
    "                          df0._c8.cast(\"string\").alias('ABRIR'),\\\n",
    "                          df0._c9.cast(\"string\").alias('OBSPEDIDO'),\\\n",
    "                          df0._c10.cast(\"string\").alias('OSBDELIVERY'))\\\n",
    "                          .withColumn('DATAINGESTAO', f.lit('20220620')) \n",
    "print(f'Historico Pedidos: {df1.count()}')"
   ]
  },
  {
   "cell_type": "code",
   "execution_count": null,
   "id": "27fa7b08-216e-466c-b763-89752ccaafe4",
   "metadata": {},
   "outputs": [],
   "source": [
    "# df1.filter(df1.DESCRICAO == \"FRANQUIA\").show()"
   ]
  },
  {
   "cell_type": "code",
   "execution_count": null,
   "id": "fab9187a-afef-478f-b6c6-d33a360ef7f4",
   "metadata": {},
   "outputs": [],
   "source": [
    "df2 = df1.distinct()"
   ]
  },
  {
   "cell_type": "code",
   "execution_count": null,
   "id": "99b8978f-db6f-4220-9f78-9de76eac2697",
   "metadata": {},
   "outputs": [],
   "source": [
    "# print(f'Contas a Pagar Formatados : {df2.count()}')\n",
    "# df2.show()"
   ]
  },
  {
   "cell_type": "code",
   "execution_count": null,
   "id": "6d06e2c0-fb24-49c4-852a-ad1ef1010136",
   "metadata": {},
   "outputs": [],
   "source": [
    "df2 = df1.dropna(how='all', subset='TIPO')\n",
    "print(f'Historico Pedidos : {df2.count()}')"
   ]
  },
  {
   "cell_type": "code",
   "execution_count": null,
   "id": "c49a26f4-e12c-4e46-8cc4-3cb50f5e4261",
   "metadata": {},
   "outputs": [],
   "source": [
    "# df_contasapagar = df3.select(f.row_number().over(w).alias('ID'),'*')"
   ]
  },
  {
   "cell_type": "code",
   "execution_count": null,
   "id": "da1cf873-2e2e-4f56-9dbd-9fb55fe86d93",
   "metadata": {},
   "outputs": [],
   "source": [
    "# df_contasapagar.show(truncate=False)"
   ]
  },
  {
   "cell_type": "code",
   "execution_count": null,
   "id": "02bab6b0-3183-4372-9617-566b8fdabb66",
   "metadata": {},
   "outputs": [],
   "source": [
    "df2.write.format(\"parquet\").mode(\"overwrite\").parquet('work/historicopedidos')"
   ]
  },
  {
   "cell_type": "code",
   "execution_count": null,
   "id": "c07bd627-968f-49c6-9a4b-101a32999bf5",
   "metadata": {},
   "outputs": [],
   "source": [
    "# dfMelhorDia = df_contasapagar.groupBy(\"MES_PG\",\"CATEGORIA\").agg(f.format_number(f.sum(\"VALORPG\"),2).alias(\"total\"),\\\n",
    "#                              f.format_number(f.avg(\"VALORPG\"),2).alias(\"media\"),\\\n",
    "#                              f.format_number(f.min(\"VALORPG\"),2).alias(\"menor\"),\\\n",
    "#                              f.format_number(f.max(\"VALORPG\"),2).alias(\"maior\")).\\\n",
    "#     orderBy([\"MES_PG\",\"total\"],ascending=[0, 0])"
   ]
  },
  {
   "cell_type": "code",
   "execution_count": null,
   "id": "beb4e1aa-6129-4d1a-a0e9-489b0448b548",
   "metadata": {},
   "outputs": [],
   "source": [
    "dfMelhorDia = df2.groupBy(\"MES_ABE\",\"FORMAPG\").agg(f.round(f.sum(\"VLLIQUIDO\"),2).alias(\"total\"),\\\n",
    "                             f.count(\"MES_HIS\").alias(\"Compras\"),\\\n",
    "                             f.round(f.avg(\"VLLIQUIDO\"),2).alias(\"media\"),\\\n",
    "                             f.round(f.min(\"VLLIQUIDO\"),2).alias(\"menor\"),\\\n",
    "                             f.round(f.max(\"VLLIQUIDO\"),2).alias(\"maior\")).\\\n",
    "    orderBy([\"MES_HIS\",'FORMAPG'],ascending=[1, 1])"
   ]
  },
  {
   "cell_type": "code",
   "execution_count": null,
   "id": "1425a6af-6d05-4e12-b1ad-0e3b9b5789ad",
   "metadata": {},
   "outputs": [],
   "source": [
    "dfMelhorDia.show(truncate=False,n=1000)\n"
   ]
  }
 ],
 "metadata": {
  "kernelspec": {
   "display_name": "Python 3 (ipykernel)",
   "language": "python",
   "name": "python3"
  },
  "language_info": {
   "codemirror_mode": {
    "name": "ipython",
    "version": 3
   },
   "file_extension": ".py",
   "mimetype": "text/x-python",
   "name": "python",
   "nbconvert_exporter": "python",
   "pygments_lexer": "ipython3",
   "version": "3.9.10"
  }
 },
 "nbformat": 4,
 "nbformat_minor": 5
}
