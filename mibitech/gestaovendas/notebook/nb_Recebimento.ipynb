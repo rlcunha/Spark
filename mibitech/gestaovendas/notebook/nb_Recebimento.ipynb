{
 "cells": [
  {
   "cell_type": "code",
   "execution_count": 1,
   "id": "a0d64d7d-6435-4d2b-8edf-07afbf64fa34",
   "metadata": {},
   "outputs": [],
   "source": [
    "import pyspark.sql.functions as f\n",
    "from pyspark.sql import Window\n",
    "from pyspark.sql import SparkSession"
   ]
  },
  {
   "cell_type": "code",
   "execution_count": 2,
   "id": "8c02cac3-d503-42f9-88a0-7f8d3f616995",
   "metadata": {},
   "outputs": [
    {
     "name": "stderr",
     "output_type": "stream",
     "text": [
      "WARNING: An illegal reflective access operation has occurred\n",
      "WARNING: Illegal reflective access by org.apache.spark.unsafe.Platform (file:/opt/conda/lib/python3.9/site-packages/pyspark/jars/spark-unsafe_2.12-3.2.1.jar) to constructor java.nio.DirectByteBuffer(long,int)\n",
      "WARNING: Please consider reporting this to the maintainers of org.apache.spark.unsafe.Platform\n",
      "WARNING: Use --illegal-access=warn to enable warnings of further illegal reflective access operations\n",
      "WARNING: All illegal access operations will be denied in a future release\n",
      "Using Spark's default log4j profile: org/apache/spark/log4j-defaults.properties\n",
      "Setting default log level to \"WARN\".\n",
      "To adjust logging level use sc.setLogLevel(newLevel). For SparkR, use setLogLevel(newLevel).\n",
      "22/06/20 13:35:20 WARN NativeCodeLoader: Unable to load native-hadoop library for your platform... using builtin-java classes where applicable\n",
      "22/06/20 13:35:22 WARN Utils: Service 'SparkUI' could not bind on port 4040. Attempting port 4041.\n",
      "22/06/20 13:35:22 WARN Utils: Service 'SparkUI' could not bind on port 4041. Attempting port 4042.\n",
      "22/06/20 13:35:22 WARN Utils: Service 'SparkUI' could not bind on port 4042. Attempting port 4043.\n"
     ]
    }
   ],
   "source": [
    "spark = SparkSession.builder.getOrCreate()\n",
    "w = Window().orderBy(f.lit('A'))"
   ]
  },
  {
   "cell_type": "code",
   "execution_count": 3,
   "id": "9fa14f6c-a6b1-408e-8c07-5421e612d3fe",
   "metadata": {
    "tags": []
   },
   "outputs": [
    {
     "name": "stderr",
     "output_type": "stream",
     "text": [
      "                                                                                \r"
     ]
    }
   ],
   "source": [
    "#Leitura de CSV\n",
    "df0 = spark.read.csv('work/Recebimentos.csv',sep=';',header='false');"
   ]
  },
  {
   "cell_type": "code",
   "execution_count": 4,
   "id": "407158fc-d557-4c0d-9765-688240fb053c",
   "metadata": {},
   "outputs": [
    {
     "name": "stdout",
     "output_type": "stream",
     "text": [
      "Recebimento: 8612\n"
     ]
    }
   ],
   "source": [
    "  df1 = df0.select(df0._c0.cast(\"string\").alias('TIPO'), \\\n",
    "                                           df0._c1.cast(\"string\").alias('FORMAPG'), \\\n",
    "                                           f.substring(df0._c2,1,2).cast(\"int\").alias('DIA_HIS'), \\\n",
    "                                           f.substring(df0._c2,4,2).cast(\"int\").alias('MES_HIS'), \\\n",
    "                                           f.substring(df0._c2,7,4).cast(\"int\").alias('ANO_HIS'), \\\n",
    "                                           f.substring(df0._c2,12,2).cast(\"int\").alias('HORA_HIS'), \\\n",
    "                                           f.substring(df0._c2,15,2).cast(\"int\").alias('MINUTO_HIS'), \\\n",
    "                                            f.regexp_replace(f.regexp_replace(f.regexp_replace(f.trim(df0._c4),'[R$ ]',''),'[.]',''),',','.').alias('VALOR'),\\\n",
    "                                            f.regexp_replace(f.regexp_replace(f.regexp_replace(f.trim(df0._c5),'[R$ ]',''),'[.]',''),',','.').alias('VLLIQUIDO'),\\\n",
    "                                           df0._c6.cast(\"integer\").alias('PEDIDO'), \\\n",
    "                                           df0._c7.cast(\"string\").alias('FUNC'), \\\n",
    "                                           df0._c8.cast(\"integer\").alias('CAIXA'), \\\n",
    "                                           df0._c9.cast(\"string\").alias('UNIDADE'))\\\n",
    "                                           .withColumn('DATAINGESTAO', f.lit('20220620'))\n",
    "print(f'Recebimento: {df1.count()}')"
   ]
  },
  {
   "cell_type": "code",
   "execution_count": 5,
   "id": "27fa7b08-216e-466c-b763-89752ccaafe4",
   "metadata": {},
   "outputs": [],
   "source": [
    "# df1.filter(df1.DESCRICAO == \"FRANQUIA\").show()"
   ]
  },
  {
   "cell_type": "code",
   "execution_count": 6,
   "id": "fab9187a-afef-478f-b6c6-d33a360ef7f4",
   "metadata": {},
   "outputs": [],
   "source": [
    "# df2 = df1.distinct()"
   ]
  },
  {
   "cell_type": "code",
   "execution_count": 7,
   "id": "99b8978f-db6f-4220-9f78-9de76eac2697",
   "metadata": {},
   "outputs": [],
   "source": [
    "# print(f'Contas a Pagar Formatados : {df2.count()}')\n",
    "# df2.show()"
   ]
  },
  {
   "cell_type": "code",
   "execution_count": 8,
   "id": "6d06e2c0-fb24-49c4-852a-ad1ef1010136",
   "metadata": {},
   "outputs": [
    {
     "name": "stdout",
     "output_type": "stream",
     "text": [
      "Contas a Pagar : 8610\n"
     ]
    }
   ],
   "source": [
    "df2 = df1.dropna(how='all', subset='MES_HIS')\n",
    "print(f'Contas a Pagar : {df2.count()}')"
   ]
  },
  {
   "cell_type": "code",
   "execution_count": 9,
   "id": "c49a26f4-e12c-4e46-8cc4-3cb50f5e4261",
   "metadata": {},
   "outputs": [],
   "source": [
    "# df_contasapagar = df3.select(f.row_number().over(w).alias('ID'),'*')"
   ]
  },
  {
   "cell_type": "code",
   "execution_count": 10,
   "id": "da1cf873-2e2e-4f56-9dbd-9fb55fe86d93",
   "metadata": {},
   "outputs": [],
   "source": [
    "# df_contasapagar.show(truncate=False)"
   ]
  },
  {
   "cell_type": "code",
   "execution_count": 11,
   "id": "02bab6b0-3183-4372-9617-566b8fdabb66",
   "metadata": {},
   "outputs": [
    {
     "name": "stderr",
     "output_type": "stream",
     "text": [
      "                                                                                \r"
     ]
    }
   ],
   "source": [
    "df2.write.format(\"parquet\").mode(\"overwrite\").parquet('work/recebimentos')"
   ]
  },
  {
   "cell_type": "code",
   "execution_count": 12,
   "id": "c07bd627-968f-49c6-9a4b-101a32999bf5",
   "metadata": {},
   "outputs": [],
   "source": [
    "# dfMelhorDia = df_contasapagar.groupBy(\"MES_PG\",\"CATEGORIA\").agg(f.format_number(f.sum(\"VALORPG\"),2).alias(\"total\"),\\\n",
    "#                              f.format_number(f.avg(\"VALORPG\"),2).alias(\"media\"),\\\n",
    "#                              f.format_number(f.min(\"VALORPG\"),2).alias(\"menor\"),\\\n",
    "#                              f.format_number(f.max(\"VALORPG\"),2).alias(\"maior\")).\\\n",
    "#     orderBy([\"MES_PG\",\"total\"],ascending=[0, 0])"
   ]
  },
  {
   "cell_type": "code",
   "execution_count": 13,
   "id": "beb4e1aa-6129-4d1a-a0e9-489b0448b548",
   "metadata": {},
   "outputs": [],
   "source": [
    "dfMelhorDia = df2.groupBy(\"MES_HIS\",\"FORMAPG\").agg(f.round(f.sum(\"VLLIQUIDO\"),2).alias(\"total\"),\\\n",
    "                             f.count(\"MES_HIS\").alias(\"Compras\"),\\\n",
    "                             f.round(f.avg(\"VLLIQUIDO\"),2).alias(\"media\"),\\\n",
    "                             f.round(f.min(\"VLLIQUIDO\"),2).alias(\"menor\"),\\\n",
    "                             f.round(f.max(\"VLLIQUIDO\"),2).alias(\"maior\")).\\\n",
    "    orderBy([\"MES_HIS\",'FORMAPG'],ascending=[1, 1])"
   ]
  },
  {
   "cell_type": "code",
   "execution_count": 14,
   "id": "1425a6af-6d05-4e12-b1ad-0e3b9b5789ad",
   "metadata": {},
   "outputs": [
    {
     "name": "stderr",
     "output_type": "stream",
     "text": [
      "[Stage 8:>                                                          (0 + 1) / 1]\r"
     ]
    },
    {
     "name": "stdout",
     "output_type": "stream",
     "text": [
      "+-------+----------------------------------+--------+-------+-----+------+-----+\n",
      "|MES_HIS|FORMAPG                           |total   |Compras|media|menor |maior|\n",
      "+-------+----------------------------------+--------+-------+-----+------+-----+\n",
      "|5      |Cartão de Crédito American Express|174.34  |6      |29.06|17.19 |51.59|\n",
      "|5      |Cartão de Crédito Elo             |625.35  |31     |20.17|12.59 |9.69 |\n",
      "|5      |Cartão de Crédito Mastercard      |15336.0 |645    |23.78|10.75 |9.77 |\n",
      "|5      |Cartão de Crédito Outros          |75.07   |2      |37.54|36.07 |39.0 |\n",
      "|5      |Cartão de Crédito Visa            |6734.2  |300    |22.45|10.26 |9.77 |\n",
      "|5      |Cartão de Débito Elo              |5211.41 |221    |23.58|10.25 |93.24|\n",
      "|5      |Cartão de Débito Mastercard       |28573.3 |1269   |22.52|10.32 |96.34|\n",
      "|5      |Cartão de Débito Outros           |126.45  |7      |18.06|11.76 |9.8  |\n",
      "|5      |Cartão de Débito Visa             |13092.79|582    |22.5 |10.81 |9.83 |\n",
      "|5      |Cheque                            |122.98  |4      |30.75|13.0  |53.99|\n",
      "|5      |Dinheiro                          |24425.77|1372   |17.8 |0.5   |97.5 |\n",
      "|5      |Pagamento Instantâneo (PIX)       |182.75  |2      |91.38|114.75|68.0 |\n",
      "|5      |Pagamento Instantâneo (PIX) Outros|2888.55 |128    |22.57|10.0  |92.0 |\n",
      "|5      |Vale Refeição Outros              |1397.71 |46     |30.39|102.82|7.76 |\n",
      "|5      |iFood - Incentivo Outros          |949.78  |95     |10.0 |10.0  |9.0  |\n",
      "|5      |iFood Online Outros               |30945.33|984    |31.45|0.0   |97.67|\n",
      "|6      |Cartão de Crédito American Express|40.11   |2      |20.06|19.1  |21.01|\n",
      "|6      |Cartão de Crédito Elo             |523.63  |25     |20.95|11.62 |9.69 |\n",
      "|6      |Cartão de Crédito Mastercard      |8347.29 |337    |24.77|10.26 |99.73|\n",
      "|6      |Cartão de Crédito Visa            |3739.68 |164    |22.8 |10.26 |9.77 |\n",
      "|6      |Cartão de Débito Elo              |2768.61 |112    |24.72|12.69 |93.73|\n",
      "|6      |Cartão de Débito Mastercard       |14650.67|646    |22.68|10.81 |91.92|\n",
      "|6      |Cartão de Débito Outros           |114.7   |5      |22.94|11.76 |9.8  |\n",
      "|6      |Cartão de Débito Visa             |6593.6  |283    |23.3 |10.81 |9.83 |\n",
      "|6      |Cheque                            |22.5    |1      |22.5 |22.5  |22.5 |\n",
      "|6      |Dinheiro                          |12012.46|697    |17.23|10.0  |96.0 |\n",
      "|6      |Pagamento Instantâneo (PIX) Outros|1033.49 |55     |18.79|10.0  |9.5  |\n",
      "|6      |Vale Refeição Outros              |786.15  |30     |26.21|11.64 |9.7  |\n",
      "|6      |iFood - Incentivo Outros          |633.01  |64     |9.89 |10.0  |9.0  |\n",
      "|6      |iFood Online Outros               |16102.47|495    |32.53|0.87  |89.22|\n",
      "+-------+----------------------------------+--------+-------+-----+------+-----+\n",
      "\n"
     ]
    },
    {
     "name": "stderr",
     "output_type": "stream",
     "text": [
      "                                                                                \r"
     ]
    }
   ],
   "source": [
    "dfMelhorDia.show(truncate=False,n=1000)\n"
   ]
  }
 ],
 "metadata": {
  "kernelspec": {
   "display_name": "Python 3 (ipykernel)",
   "language": "python",
   "name": "python3"
  },
  "language_info": {
   "codemirror_mode": {
    "name": "ipython",
    "version": 3
   },
   "file_extension": ".py",
   "mimetype": "text/x-python",
   "name": "python",
   "nbconvert_exporter": "python",
   "pygments_lexer": "ipython3",
   "version": "3.9.10"
  }
 },
 "nbformat": 4,
 "nbformat_minor": 5
}
