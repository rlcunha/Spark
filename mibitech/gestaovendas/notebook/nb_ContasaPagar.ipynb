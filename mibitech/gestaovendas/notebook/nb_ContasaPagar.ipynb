{
 "cells": [
  {
   "cell_type": "code",
   "execution_count": 1,
   "id": "a0d64d7d-6435-4d2b-8edf-07afbf64fa34",
   "metadata": {},
   "outputs": [],
   "source": [
    "import pyspark.sql.functions as f\n",
    "from pyspark.sql import Window\n",
    "from pyspark.sql import SparkSession"
   ]
  },
  {
   "cell_type": "code",
   "execution_count": 2,
   "id": "8c02cac3-d503-42f9-88a0-7f8d3f616995",
   "metadata": {},
   "outputs": [
    {
     "name": "stderr",
     "output_type": "stream",
     "text": [
      "WARNING: An illegal reflective access operation has occurred\n",
      "WARNING: Illegal reflective access by org.apache.spark.unsafe.Platform (file:/opt/conda/lib/python3.9/site-packages/pyspark/jars/spark-unsafe_2.12-3.2.1.jar) to constructor java.nio.DirectByteBuffer(long,int)\n",
      "WARNING: Please consider reporting this to the maintainers of org.apache.spark.unsafe.Platform\n",
      "WARNING: Use --illegal-access=warn to enable warnings of further illegal reflective access operations\n",
      "WARNING: All illegal access operations will be denied in a future release\n",
      "Using Spark's default log4j profile: org/apache/spark/log4j-defaults.properties\n",
      "Setting default log level to \"WARN\".\n",
      "To adjust logging level use sc.setLogLevel(newLevel). For SparkR, use setLogLevel(newLevel).\n",
      "22/06/19 23:45:47 WARN NativeCodeLoader: Unable to load native-hadoop library for your platform... using builtin-java classes where applicable\n"
     ]
    }
   ],
   "source": [
    "spark = SparkSession.builder.getOrCreate()\n",
    "w = Window().orderBy(f.lit('A'))"
   ]
  },
  {
   "cell_type": "code",
   "execution_count": 3,
   "id": "9fa14f6c-a6b1-408e-8c07-5421e612d3fe",
   "metadata": {
    "tags": []
   },
   "outputs": [
    {
     "name": "stderr",
     "output_type": "stream",
     "text": [
      "                                                                                \r"
     ]
    }
   ],
   "source": [
    "#Leitura de CSV\n",
    "df0 = spark.read.csv('work/contasapagar.csv',sep=';',header='false');"
   ]
  },
  {
   "cell_type": "code",
   "execution_count": 4,
   "id": "407158fc-d557-4c0d-9765-688240fb053c",
   "metadata": {},
   "outputs": [
    {
     "name": "stdout",
     "output_type": "stream",
     "text": [
      "Contas a Pagar Formatados : 547\n"
     ]
    }
   ],
   "source": [
    "df1 = df0.select(f.substring(df0._c8,1,2).cast(\"int\").alias('CODIGO'),\\\n",
    "                        f.substring(df0._c8,4,2).cast(\"int\").alias('SUBCODIGO1'),\\\n",
    "                        f.substring(df0._c8,7,2).cast(\"int\").alias('SUBCODIGO2'),\\\n",
    "                        f.substring(f.regexp_replace(df0._c8,'-',''),9,30).alias('DESCSUBCODIGO'),\\\n",
    "                        df0._c0.cast(\"string\").alias('CATEGORIA'),\\\n",
    "                        df0._c1.cast(\"string\").alias('DESCRICAO'),\\\n",
    "                        f.substring(df0._c2,1,2).cast(\"int\").alias('DIAVENCTO'),\\\n",
    "                        f.substring(df0._c2,4,2).cast(\"int\").alias('MESVENCTO'),\\\n",
    "                        f.substring(df0._c2,7,4).cast(\"int\").alias('ANOVENCTO'),\\\n",
    "                        # f.substring(df0._c2,12,2).cast(\"int\").alias('HORAVENCTO'),\\\n",
    "                        # f.substring(df0._c2,15,2).cast(\"int\").alias('MINUTOVENCTO'),\\\n",
    "                        f.substring(df0._c3,1,2).cast(\"int\").alias('DIA_PG'),\\\n",
    "                        f.substring(df0._c3,4,2).cast(\"int\").alias('MES_PG'),\\\n",
    "                        f.substring(df0._c3,7,4).cast(\"int\").alias('ANO_PG'),\\\n",
    "                        # f.substring(df0._c3,12,2).cast(\"int\").alias('HORAPG'),\\\n",
    "                        # f.substring(df0._c3,15,2).cast(\"int\").alias('MINUTOPG'),\\\n",
    "                        f.regexp_replace(f.regexp_replace(f.regexp_replace(f.trim(df0._c4),'[R$ ]',''),'[.]',''),',','.').alias('VALOR'),\\\n",
    "                        f.regexp_replace(f.regexp_replace(f.regexp_replace(f.trim(df0._c5),'[R$ ]',''),'[.]',''),',','.').alias('VALORPG'),\\\n",
    "                        df0._c6.cast(\"string\").alias('STATUS'),\\\n",
    "                        df0._c7.cast(\"string\").alias('PARCELAS'),\\\n",
    "                        df0._c8.cast(\"string\").alias('FORNECEDOR'),\\\n",
    "                        df0._c9.cast(\"string\").alias('UNIDADE'))\n",
    "print(f'Contas a Pagar Formatados : {df1.count()}')"
   ]
  },
  {
   "cell_type": "code",
   "execution_count": 5,
   "id": "27fa7b08-216e-466c-b763-89752ccaafe4",
   "metadata": {},
   "outputs": [],
   "source": [
    "# df1.filter(df1.DESCRICAO == \"FRANQUIA\").show()"
   ]
  },
  {
   "cell_type": "code",
   "execution_count": 6,
   "id": "fab9187a-afef-478f-b6c6-d33a360ef7f4",
   "metadata": {},
   "outputs": [],
   "source": [
    "df2 = df1.distinct()"
   ]
  },
  {
   "cell_type": "code",
   "execution_count": 7,
   "id": "99b8978f-db6f-4220-9f78-9de76eac2697",
   "metadata": {},
   "outputs": [],
   "source": [
    "# print(f'Contas a Pagar Formatados : {df2.count()}')\n",
    "# df2.show()"
   ]
  },
  {
   "cell_type": "code",
   "execution_count": 8,
   "id": "6d06e2c0-fb24-49c4-852a-ad1ef1010136",
   "metadata": {},
   "outputs": [
    {
     "name": "stderr",
     "output_type": "stream",
     "text": [
      "[Stage 4:>                                                          (0 + 1) / 1]\r"
     ]
    },
    {
     "name": "stdout",
     "output_type": "stream",
     "text": [
      "Contas a Pagar : 544\n"
     ]
    },
    {
     "name": "stderr",
     "output_type": "stream",
     "text": [
      "                                                                                \r"
     ]
    }
   ],
   "source": [
    "df3 = df2.dropna(how='all', subset='DESCRICAO')\n",
    "print(f'Contas a Pagar : {df3.count()}')"
   ]
  },
  {
   "cell_type": "code",
   "execution_count": 9,
   "id": "c49a26f4-e12c-4e46-8cc4-3cb50f5e4261",
   "metadata": {},
   "outputs": [],
   "source": [
    "df_contasapagar = df3.select(f.row_number().over(w).alias('ID'),'*')"
   ]
  },
  {
   "cell_type": "code",
   "execution_count": 10,
   "id": "da1cf873-2e2e-4f56-9dbd-9fb55fe86d93",
   "metadata": {},
   "outputs": [],
   "source": [
    "# df_contasapagar.show(truncate=False)"
   ]
  },
  {
   "cell_type": "code",
   "execution_count": 11,
   "id": "649ae717-86ed-492d-af66-15e8461ceec4",
   "metadata": {},
   "outputs": [
    {
     "name": "stderr",
     "output_type": "stream",
     "text": [
      "                                                                                \r"
     ]
    }
   ],
   "source": [
    "df_cotas = df_contasapagar.select('CODIGO','SUBCODIGO1','SUBCODIGO2','DESCSUBCODIGO').distinct().dropna(how='all', subset='CODIGO')\n",
    "df_cotas.write.format(\"parquet\").mode(\"overwrite\").parquet('work/codigocontas')"
   ]
  },
  {
   "cell_type": "code",
   "execution_count": 12,
   "id": "02bab6b0-3183-4372-9617-566b8fdabb66",
   "metadata": {},
   "outputs": [
    {
     "name": "stderr",
     "output_type": "stream",
     "text": [
      "22/06/19 23:46:17 WARN WindowExec: No Partition Defined for Window operation! Moving all data to a single partition, this can cause serious performance degradation.\n",
      "22/06/19 23:46:17 WARN WindowExec: No Partition Defined for Window operation! Moving all data to a single partition, this can cause serious performance degradation.\n",
      "22/06/19 23:46:18 WARN WindowExec: No Partition Defined for Window operation! Moving all data to a single partition, this can cause serious performance degradation.\n",
      "22/06/19 23:46:19 WARN WindowExec: No Partition Defined for Window operation! Moving all data to a single partition, this can cause serious performance degradation.\n",
      "                                                                                \r"
     ]
    }
   ],
   "source": [
    "df_contasapagar.write.format(\"parquet\").mode(\"overwrite\").parquet('work/contasapagar')"
   ]
  },
  {
   "cell_type": "code",
   "execution_count": 13,
   "id": "c07bd627-968f-49c6-9a4b-101a32999bf5",
   "metadata": {},
   "outputs": [],
   "source": [
    "# dfMelhorDia = df_contasapagar.groupBy(\"MES_PG\",\"CATEGORIA\").agg(f.format_number(f.sum(\"VALORPG\"),2).alias(\"total\"),\\\n",
    "#                              f.format_number(f.avg(\"VALORPG\"),2).alias(\"media\"),\\\n",
    "#                              f.format_number(f.min(\"VALORPG\"),2).alias(\"menor\"),\\\n",
    "#                              f.format_number(f.max(\"VALORPG\"),2).alias(\"maior\")).\\\n",
    "#     orderBy([\"MES_PG\",\"total\"],ascending=[0, 0])"
   ]
  },
  {
   "cell_type": "code",
   "execution_count": 23,
   "id": "beb4e1aa-6129-4d1a-a0e9-489b0448b548",
   "metadata": {},
   "outputs": [],
   "source": [
    "dfMelhorDia = df_contasapagar.groupBy(\"MES_PG\",\"CODIGO\",\"SUBCODIGO1\",\"CATEGORIA\").agg(f.round(f.sum(\"VALORPG\"),2).alias(\"total\"),\\\n",
    "                             f.count(\"MES_PG\").alias(\"Compras\"),\\\n",
    "                             f.round(f.avg(\"VALORPG\"),2).alias(\"media\"),\\\n",
    "                             f.round(f.min(\"VALORPG\"),2).alias(\"menor\"),\\\n",
    "                             f.round(f.max(\"VALORPG\"),2).alias(\"maior\")).\\\n",
    "    orderBy([\"MES_PG\",'CODIGO','SUBCODIGO1',\"total\"],ascending=[1, 1,1])"
   ]
  },
  {
   "cell_type": "code",
   "execution_count": 25,
   "id": "8dfe9f22-dab7-40ef-b7da-e090e789bf1a",
   "metadata": {},
   "outputs": [],
   "source": [
    "dfMelhorDia = df_contasapagar.groupBy(\"MES_PG\",\"CODIGO\",\"SUBCODIGO1\",\"CATEGORIA\").agg(f.round(f.sum(\"VALORPG\"),2).alias(\"total\"),\\\n",
    "                             f.count(\"MES_PG\").alias(\"Compras\")).\\\n",
    "    orderBy([\"MES_PG\",'CODIGO','SUBCODIGO1',\"total\"],ascending=[1, 1,1])"
   ]
  },
  {
   "cell_type": "code",
   "execution_count": 26,
   "id": "1425a6af-6d05-4e12-b1ad-0e3b9b5789ad",
   "metadata": {},
   "outputs": [
    {
     "name": "stderr",
     "output_type": "stream",
     "text": [
      "                                                                                \r"
     ]
    },
    {
     "name": "stdout",
     "output_type": "stream",
     "text": [
      "+------+------+----------+-----------------------------------+--------+-------+\n",
      "|MES_PG|CODIGO|SUBCODIGO1|CATEGORIA                          |total   |Compras|\n",
      "+------+------+----------+-----------------------------------+--------+-------+\n",
      "|null  |null  |null      |03.03-Instalações Gerais           |null    |0      |\n",
      "|null  |null  |null      |Catagoria                          |null    |0      |\n",
      "|null  |1     |0         |01.00-Aluguel                      |null    |0      |\n",
      "|null  |1     |1         |01.01-SABESP                       |null    |0      |\n",
      "|null  |1     |2         |01.02-Energia Elétrica             |null    |0      |\n",
      "|5     |null  |null      |03.01-Itens para Cozinha           |89.26   |2      |\n",
      "|5     |null  |null      |01.11-Delivery                     |248.0   |5      |\n",
      "|5     |null  |null      |01.15-Mercado                      |227.0   |6      |\n",
      "|5     |null  |null      |03.03-Instalações Gerais           |10.0    |1      |\n",
      "|5     |null  |null      |02.08-Vale Transporte              |52.0    |1      |\n",
      "|5     |null  |null      |01.16-Doces                        |251.0   |4      |\n",
      "|5     |null  |null      |03.04-Outros Equipamentos          |59.5    |1      |\n",
      "|5     |null  |null      |03.02-Mão de Obra                  |10.0    |1      |\n",
      "|5     |null  |null      |01.20-Salgados                     |59.5    |5      |\n",
      "|5     |1     |0         |01.00-Aluguel                      |6880.3  |2      |\n",
      "|5     |1     |2         |01.02-Energia Elétrica             |3399.69 |1      |\n",
      "|5     |1     |4         |01.04-Telefone Fixo/ vivo          |148.28  |1      |\n",
      "|5     |1     |6         |02.14-FreeLance                    |192.0   |2      |\n",
      "|5     |1     |6         |01.06-Freelance-Temporario         |828.0   |6      |\n",
      "|5     |1     |6         |02.08-Vale Transporte              |70.0    |2      |\n",
      "|5     |1     |7         |01.07-Manutenção Geral             |102.1   |6      |\n",
      "|5     |1     |7         |01.09-Serviço de Limpeza           |8.0     |1      |\n",
      "|5     |1     |11        |01.11-Delivery                     |5890.0  |77     |\n",
      "|5     |1     |12        |01.12-Papelaria                    |238.5   |7      |\n",
      "|5     |1     |13        |01.13-Embalagens                   |4637.72 |33     |\n",
      "|5     |1     |14        |01.14-Gráfica                      |10.0    |1      |\n",
      "|5     |1     |15        |01.15-Mercado                      |12256.66|39     |\n",
      "|5     |1     |15        |01.19-Laticínios                   |3816.63 |2      |\n",
      "|5     |1     |16        |01.16-Doces                        |3204.0  |25     |\n",
      "|5     |1     |17        |01.17-Hortifruti                   |1192.0  |15     |\n",
      "|5     |1     |20        |01.20-Salgados                     |4183.0  |25     |\n",
      "|5     |1     |21        |01.21-FRANQUIA-Pedido semanal      |29412.51|5      |\n",
      "|5     |1     |23        |01.23 - gasolina e manutenção carro|200.0   |1      |\n",
      "|5     |2     |5         |02.05-Horas Extras                 |309.0   |9      |\n",
      "|5     |2     |8         |02.08-Vale Transporte              |1770.0  |30     |\n",
      "|5     |2     |10        |02.10-Vale Refeição                |2152.35 |2      |\n",
      "|5     |2     |11        |02.11-Adiantamento                 |100.0   |2      |\n",
      "|5     |2     |13        |02.13-Salário                      |1279.0  |1      |\n",
      "|5     |2     |14        |02.14-FreeLance                    |3278.0  |30     |\n",
      "|5     |6     |6         |06.06-Estorno Cliente              |85.5    |7      |\n",
      "|5     |6     |9         |06.09-Convenio                     |542.23  |3      |\n",
      "|6     |null  |null      |01.07-Manutenção Geral             |233.88  |3      |\n",
      "|6     |null  |null      |03.01-Itens para Cozinha           |265.0   |1      |\n",
      "|6     |null  |null      |06.09-Convenio                     |1615.83 |1      |\n",
      "|6     |null  |null      |01.13-Embalagens                   |570.45  |2      |\n",
      "|6     |null  |null      |03.04-Outros Equipamentos          |152.17  |1      |\n",
      "|6     |null  |null      |NITROJET                           |178.0   |1      |\n",
      "|6     |null  |null      |01.16-Doces                        |300.0   |5      |\n",
      "|6     |null  |null      |03.03-Instalações Gerais           |32.0    |1      |\n",
      "|6     |null  |null      |01.15-Mercado                      |193.0   |4      |\n",
      "|6     |1     |0         |01.00-Aluguel                      |6885.0  |1      |\n",
      "|6     |1     |4         |01.04-Telefone Fixo/ vivo          |139.98  |1      |\n",
      "|6     |1     |6         |01.06-Freelance-Temporario         |200.0   |2      |\n",
      "|6     |1     |7         |01.07-Manutenção Geral             |90.0    |1      |\n",
      "|6     |1     |11        |01.11-Delivery                     |2754.0  |29     |\n",
      "|6     |1     |12        |01.12-Papelaria                    |285.0   |5      |\n",
      "|6     |1     |13        |01.13-Embalagens                   |1720.47 |14     |\n",
      "|6     |1     |15        |01.15-Mercado                      |4796.43 |19     |\n",
      "|6     |1     |16        |01.16-Doces                        |1381.0  |14     |\n",
      "|6     |1     |17        |01.17-Hortifruti                   |1680.0  |13     |\n",
      "|6     |1     |20        |01.20-Salgados                     |1439.0  |16     |\n",
      "|6     |1     |21        |01.21-FRANQUIA-Pedido semanal      |22559.3 |3      |\n",
      "|6     |1     |22        |01.22-FRANQUIA-Frete Semanal       |1100.0  |1      |\n",
      "|6     |2     |5         |02.05-Horas Extras                 |35.0    |1      |\n",
      "|6     |2     |8         |02.08-Vale Transporte              |860.0   |18     |\n",
      "|6     |2     |10        |02.10-Vale Refeição                |1166.54 |1      |\n",
      "|6     |2     |11        |02.05-Horas Extras                 |42.0    |1      |\n",
      "|6     |2     |14        |02.14-FreeLance                    |1594.0  |14     |\n",
      "|6     |6     |6         |06.06-Estorno Cliente              |21.0    |4      |\n",
      "+------+------+----------+-----------------------------------+--------+-------+\n",
      "\n"
     ]
    },
    {
     "name": "stderr",
     "output_type": "stream",
     "text": [
      "22/06/20 17:45:58 WARN HeartbeatReceiver: Removing executor driver with no recent heartbeats: 1577176 ms exceeds timeout 120000 ms\n",
      "22/06/20 17:45:58 WARN SparkContext: Killing executors is not supported by current scheduler.\n"
     ]
    }
   ],
   "source": [
    "dfMelhorDia.show(truncate=False,n=1000)\n"
   ]
  }
 ],
 "metadata": {
  "kernelspec": {
   "display_name": "Python 3 (ipykernel)",
   "language": "python",
   "name": "python3"
  },
  "language_info": {
   "codemirror_mode": {
    "name": "ipython",
    "version": 3
   },
   "file_extension": ".py",
   "mimetype": "text/x-python",
   "name": "python",
   "nbconvert_exporter": "python",
   "pygments_lexer": "ipython3",
   "version": "3.9.10"
  }
 },
 "nbformat": 4,
 "nbformat_minor": 5
}
