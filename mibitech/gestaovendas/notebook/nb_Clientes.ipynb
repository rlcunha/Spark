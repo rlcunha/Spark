{
 "cells": [
  {
   "cell_type": "code",
   "execution_count": 1,
   "id": "dd1a0ec8-a6c7-4756-8943-fcecb2974f25",
   "metadata": {},
   "outputs": [],
   "source": [
    "import pyspark.sql.functions as f\n",
    "from pyspark.sql import Window\n",
    "from pyspark.sql import SparkSession"
   ]
  },
  {
   "cell_type": "code",
   "execution_count": 2,
   "id": "b1d2076d-ea9d-4725-bcf6-45f123578774",
   "metadata": {},
   "outputs": [
    {
     "name": "stderr",
     "output_type": "stream",
     "text": [
      "WARNING: An illegal reflective access operation has occurred\n",
      "WARNING: Illegal reflective access by org.apache.spark.unsafe.Platform (file:/opt/conda/lib/python3.9/site-packages/pyspark/jars/spark-unsafe_2.12-3.2.1.jar) to constructor java.nio.DirectByteBuffer(long,int)\n",
      "WARNING: Please consider reporting this to the maintainers of org.apache.spark.unsafe.Platform\n",
      "WARNING: Use --illegal-access=warn to enable warnings of further illegal reflective access operations\n",
      "WARNING: All illegal access operations will be denied in a future release\n",
      "Using Spark's default log4j profile: org/apache/spark/log4j-defaults.properties\n",
      "Setting default log level to \"WARN\".\n",
      "To adjust logging level use sc.setLogLevel(newLevel). For SparkR, use setLogLevel(newLevel).\n",
      "22/06/19 23:46:46 WARN NativeCodeLoader: Unable to load native-hadoop library for your platform... using builtin-java classes where applicable\n",
      "22/06/19 23:46:50 WARN Utils: Service 'SparkUI' could not bind on port 4040. Attempting port 4041.\n",
      "22/06/19 23:46:50 WARN Utils: Service 'SparkUI' could not bind on port 4041. Attempting port 4042.\n"
     ]
    }
   ],
   "source": [
    "spark = SparkSession.builder.getOrCreate()\n",
    "w = Window().orderBy(f.lit('A'))"
   ]
  },
  {
   "cell_type": "code",
   "execution_count": 3,
   "id": "aa470df0-6a6c-4d80-b4d3-9cd39f642ce5",
   "metadata": {},
   "outputs": [
    {
     "name": "stderr",
     "output_type": "stream",
     "text": [
      "                                                                                \r"
     ]
    }
   ],
   "source": [
    "#Leitura de CSV\n",
    "df0 = spark.read.csv('work/Clientes.csv',sep=';',header='false');"
   ]
  },
  {
   "cell_type": "code",
   "execution_count": 4,
   "id": "3ca5c43d-4ae1-4ea7-b1d0-a6825b7b572b",
   "metadata": {},
   "outputs": [
    {
     "name": "stderr",
     "output_type": "stream",
     "text": [
      "[Stage 3:>                                                          (0 + 1) / 1]\r"
     ]
    },
    {
     "name": "stdout",
     "output_type": "stream",
     "text": [
      "Clientes Formatados : 302\n"
     ]
    },
    {
     "name": "stderr",
     "output_type": "stream",
     "text": [
      "                                                                                \r"
     ]
    }
   ],
   "source": [
    "df1 = df0.select(df0._c0.cast(\"integer\").alias('CODIGO'),\\\n",
    "                        df0._c1.cast(\"string\").alias('NOME'),\\\n",
    "                        df0._c2.cast(\"string\").alias('TELEFONE'),\\\n",
    "                        df0._c3.cast(\"string\").alias('EMAIL'),\\\n",
    "                        # df0._c4.cast(\"string\").alias('NASCIMENTO'),\\\n",
    "                        # df0._c5.cast(\"string\").alias('ANIVERSARIANTE'),\\\n",
    "                        # df0._c6.cast(\"integer\").alias('IDADE'),\\\n",
    "                        # df0._c7.cast(\"string\").alias('IDADE'),\\\n",
    "                        df0._c8.cast(\"string\").alias('ORIGEM'),\\\n",
    "                        df0._c9.cast(\"string\").alias('CADASTRO'),\\\n",
    "                        f.substring(df0._c9,1,2).cast(\"int\").alias('DIA_CAD'),\\\n",
    "                        f.substring(df0._c9,4,2).cast(\"int\").alias('MES_CAD'),\\\n",
    "                        f.substring(df0._c9,7,4).cast(\"int\").alias('ANO_CAD'),\\\n",
    "                        df0._c10.cast(\"string\").alias('UNIDADE'),\\\n",
    "                        f.regexp_replace(f.upper(df0._c1), \" \", \"\").alias('NOMEUPPER'))\\\n",
    "                        .withColumn('DATAINGESTAO', f.lit('20220614'))\n",
    "print(f'Clientes Formatados : {df0.count()}')"
   ]
  },
  {
   "cell_type": "code",
   "execution_count": 5,
   "id": "38d36a54-d69b-4e6e-a2fd-4fdd95b6e083",
   "metadata": {},
   "outputs": [],
   "source": [
    "df2 = df1.dropDuplicates(['NOMEUPPER']).drop('NOMEUPPER')"
   ]
  },
  {
   "cell_type": "code",
   "execution_count": 6,
   "id": "1d4819fa-5366-4a31-a4d6-ab55f700c19c",
   "metadata": {},
   "outputs": [
    {
     "name": "stderr",
     "output_type": "stream",
     "text": [
      "[Stage 4:>                                                          (0 + 1) / 1]\r"
     ]
    },
    {
     "name": "stdout",
     "output_type": "stream",
     "text": [
      "Clientes Higienizado : 290\n"
     ]
    },
    {
     "name": "stderr",
     "output_type": "stream",
     "text": [
      "                                                                                \r"
     ]
    }
   ],
   "source": [
    "df3 = df2.dropna(how='all', subset='CODIGO')\n",
    "print(f'Clientes Higienizado : {df3.count()}')"
   ]
  },
  {
   "cell_type": "code",
   "execution_count": 7,
   "id": "8cfbd8c6-e2c7-479e-be5f-b395b44dc3ca",
   "metadata": {},
   "outputs": [],
   "source": [
    "df_clientes = df3.select(f.row_number().over(w).alias('ID'),'*')"
   ]
  },
  {
   "cell_type": "code",
   "execution_count": 8,
   "id": "0b4c4ecf-71c5-4b7d-99d5-1e397f9bd343",
   "metadata": {},
   "outputs": [
    {
     "name": "stderr",
     "output_type": "stream",
     "text": [
      "22/06/19 23:47:33 WARN WindowExec: No Partition Defined for Window operation! Moving all data to a single partition, this can cause serious performance degradation.\n",
      "22/06/19 23:47:33 WARN WindowExec: No Partition Defined for Window operation! Moving all data to a single partition, this can cause serious performance degradation.\n",
      "22/06/19 23:47:36 WARN WindowExec: No Partition Defined for Window operation! Moving all data to a single partition, this can cause serious performance degradation.\n",
      "22/06/19 23:47:37 WARN WindowExec: No Partition Defined for Window operation! Moving all data to a single partition, this can cause serious performance degradation.\n",
      "                                                                                \r"
     ]
    }
   ],
   "source": [
    "df_clientes.write.format(\"parquet\").mode(\"overwrite\").parquet('work/clientes')"
   ]
  },
  {
   "cell_type": "code",
   "execution_count": 9,
   "id": "7bba6f8a-b458-4deb-9409-d678523808c6",
   "metadata": {},
   "outputs": [
    {
     "name": "stdout",
     "output_type": "stream",
     "text": [
      "+-------+-------+-------+-----+\n",
      "|DIA_CAD|MES_CAD|ANO_CAD|Total|\n",
      "+-------+-------+-------+-----+\n",
      "|     10|      4|   2022|    3|\n",
      "|     12|      4|   2022|   10|\n",
      "|     14|      4|   2022|   20|\n",
      "|      9|      4|   2022|   13|\n",
      "|      5|      4|   2022|   11|\n",
      "|     13|      4|   2022|   20|\n",
      "|     23|      4|   2022|   13|\n",
      "|     15|      4|   2022|    4|\n",
      "|      6|      4|   2022|    9|\n",
      "|      8|      4|   2022|    8|\n",
      "|     21|      4|   2022|    6|\n",
      "|      2|      4|   2022|   16|\n",
      "|      1|      4|   2022|   18|\n",
      "|     16|      4|   2022|   16|\n",
      "|      4|      4|   2022|   10|\n",
      "|     19|      4|   2022|    5|\n",
      "|     20|      4|   2022|    5|\n",
      "|     27|      4|   2022|    7|\n",
      "|     28|      4|   2022|    9|\n",
      "|     17|      4|   2022|    8|\n",
      "+-------+-------+-------+-----+\n",
      "only showing top 20 rows\n",
      "\n"
     ]
    }
   ],
   "source": [
    "df_clientes.groupBy('DIA_CAD','MES_CAD','ANO_CAD').agg(f.count('CODIGO').alias('Total')).show()"
   ]
  },
  {
   "cell_type": "code",
   "execution_count": 10,
   "id": "15dccb77-d923-4569-ba27-2cbcbc6ec9b3",
   "metadata": {},
   "outputs": [],
   "source": [
    "df = spark.read.parquet('work/clientes')"
   ]
  },
  {
   "cell_type": "code",
   "execution_count": 11,
   "id": "be19eedb-5db6-45cc-a4e1-d819e8707112",
   "metadata": {},
   "outputs": [
    {
     "name": "stderr",
     "output_type": "stream",
     "text": [
      "22/06/19 23:47:48 WARN WindowExec: No Partition Defined for Window operation! Moving all data to a single partition, this can cause serious performance degradation.\n",
      "22/06/19 23:47:48 WARN WindowExec: No Partition Defined for Window operation! Moving all data to a single partition, this can cause serious performance degradation.\n",
      "22/06/19 23:47:49 WARN WindowExec: No Partition Defined for Window operation! Moving all data to a single partition, this can cause serious performance degradation.\n",
      "22/06/19 23:47:49 WARN WindowExec: No Partition Defined for Window operation! Moving all data to a single partition, this can cause serious performance degradation.\n"
     ]
    },
    {
     "name": "stdout",
     "output_type": "stream",
     "text": [
      "+---+------+--------------------+---------------+--------------------+-------------------+----------+-------+-------+-------+--------------------+------------+\n",
      "| ID|CODIGO|                NOME|       TELEFONE|               EMAIL|             ORIGEM|  CADASTRO|DIA_CAD|MES_CAD|ANO_CAD|             UNIDADE|DATAINGESTAO|\n",
      "+---+------+--------------------+---------------+--------------------+-------------------+----------+-------+-------+-------+--------------------+------------+\n",
      "|  1|  9316|  Adiana Silva-ifood|           null|                null|         Indefinido|07/04/2022|      7|      4|   2022|Inverno D´Italia ...|    20220614|\n",
      "|  2|  9374|Adriele Vitoria- ...|           null|                null|         Indefinido|13/04/2022|     13|      4|   2022|Inverno D´Italia ...|    20220614|\n",
      "|  3|  9291| Alanis Franco-IFOOD|           null|                null|         Indefinido|04/04/2022|      4|      4|   2022|Inverno D´Italia ...|    20220614|\n",
      "|  4|  9350|Alan Marisley Fer...|           null|                null|         Indefinido|11/04/2022|     11|      4|   2022|Inverno D´Italia ...|    20220614|\n",
      "|  5|  9506|Alfredo Nunes- IFOOD|           null|                null|         Indefinido|26/04/2022|     26|      4|   2022|Inverno D´Italia ...|    20220614|\n",
      "|  6|  9306|Amanda Fernandes-...|           null|                null|         Indefinido|06/04/2022|      6|      4|   2022|Inverno D´Italia ...|    20220614|\n",
      "|  7|  9290|  Amanda Matos-IFOOD|           null|                null|         Indefinido|04/04/2022|      4|      4|   2022|Inverno D´Italia ...|    20220614|\n",
      "|  8|  9262| Amanda Romano-IFOOD|           null|                null|         Indefinido|02/04/2022|      2|      4|   2022|Inverno D´Italia ...|    20220614|\n",
      "|  9|  9463|Amanda Sant Anna ...|           null|                null|         Indefinido|21/04/2022|     21|      4|   2022|Inverno D´Italia ...|    20220614|\n",
      "| 10|  9413|         Ana Ardivel|           null|                null|         Indefinido|16/04/2022|     16|      4|   2022|Inverno D´Italia ...|    20220614|\n",
      "| 11|  9507|Ana Beatriz Torin...|           null|                null|         Indefinido|26/04/2022|     26|      4|   2022|Inverno D´Italia ...|    20220614|\n",
      "| 12|  9404|Ana Clara Maia-IFOOD|           null|                null|         Indefinido|14/04/2022|     14|      4|   2022|Inverno D´Italia ...|    20220614|\n",
      "| 13|  9536|Ana Claudia Borga...|           null|                null|         Indefinido|30/04/2022|     30|      4|   2022|Inverno D´Italia ...|    20220614|\n",
      "| 14|  9319|    Ana Julia- ifood|           null|                null|         Indefinido|08/04/2022|      8|      4|   2022|Inverno D´Italia ...|    20220614|\n",
      "| 15|  9251|Ana Julia Andrade...|           null|                null|         Indefinido|01/04/2022|      1|      4|   2022|Inverno D´Italia ...|    20220614|\n",
      "| 16|  9424|Ana Laura Moraes-...|           null|                null|         Indefinido|16/04/2022|     16|      4|   2022|Inverno D´Italia ...|    20220614|\n",
      "| 17|  9360|Ana Lidia Laranje...|           null|                null|         Indefinido|12/04/2022|     12|      4|   2022|Inverno D´Italia ...|    20220614|\n",
      "| 18|  9366|  Ana Saldanha-ifood|           null|                null|         Indefinido|12/04/2022|     12|      4|   2022|Inverno D´Italia ...|    20220614|\n",
      "| 19|  9475|    Andressa Antunes|           null|                null|         Indefinido|22/04/2022|     22|      4|   2022|Inverno D´Italia ...|    20220614|\n",
      "| 20|  9380|Andressa Siilva-I...|           null|                null|         Indefinido|13/04/2022|     13|      4|   2022|Inverno D´Italia ...|    20220614|\n",
      "| 21|  9394|Andressa Silva- i...|           null|                null|         Indefinido|14/04/2022|     14|      4|   2022|Inverno D´Italia ...|    20220614|\n",
      "| 22|  9454|       Anelise-IFOOD|           null|                null|         Indefinido|19/04/2022|     19|      4|   2022|Inverno D´Italia ...|    20220614|\n",
      "| 23|  9431|Angélica Arnulf- ...|           null|                null|         Indefinido|17/04/2022|     17|      4|   2022|Inverno D´Italia ...|    20220614|\n",
      "| 24|  9358|Antonio Augusto L...|           null|                null|         Indefinido|11/04/2022|     11|      4|   2022|Inverno D´Italia ...|    20220614|\n",
      "| 25|  9474|       Antonio Rivas|           null|                null|         Indefinido|22/04/2022|     22|      4|   2022|Inverno D´Italia ...|    20220614|\n",
      "| 26|  9498|Ariane Vilas Bôas...|           null|                null|         Indefinido|25/04/2022|     25|      4|   2022|Inverno D´Italia ...|    20220614|\n",
      "| 27|  9338|Ariele Toledo- ifood|           null|                null|         Indefinido|09/04/2022|      9|      4|   2022|Inverno D´Italia ...|    20220614|\n",
      "| 28|  9499|   Ariel Segur-IFOOD|           null|                null|         Indefinido|25/04/2022|     25|      4|   2022|Inverno D´Italia ...|    20220614|\n",
      "| 29|  9276| Arthur Rocha- IFOOD|           null|                null|         Indefinido|02/04/2022|      2|      4|   2022|Inverno D´Italia ...|    20220614|\n",
      "| 30|  9496|Bianca Araujo- ifood|           null|                null|         Indefinido|25/04/2022|     25|      4|   2022|Inverno D´Italia ...|    20220614|\n",
      "| 31|  9339|Bianca De Lima- i...|           null|                null|         Indefinido|09/04/2022|      9|      4|   2022|Inverno D´Italia ...|    20220614|\n",
      "| 32|  9397|Bianca Domingues ...|           null|                null|         Indefinido|14/04/2022|     14|      4|   2022|Inverno D´Italia ...|    20220614|\n",
      "| 33|  9451|       Bianca Santos|           null|                null|         Indefinido|19/04/2022|     19|      4|   2022|Inverno D´Italia ...|    20220614|\n",
      "| 34|  9517|Brenda Cipriani- ...|           null|                null|         Indefinido|28/04/2022|     28|      4|   2022|Inverno D´Italia ...|    20220614|\n",
      "| 35|  9315|Brenda Lorrana-ifood|           null|                null|         Indefinido|07/04/2022|      7|      4|   2022|Inverno D´Italia ...|    20220614|\n",
      "| 36|  9277|Bruna Batazza- ifood|           null|                null|         Indefinido|03/04/2022|      3|      4|   2022|Inverno D´Italia ...|    20220614|\n",
      "| 37|  9448|Bruna Eduarda Mes...|           null|                null|         Indefinido|18/04/2022|     18|      4|   2022|Inverno D´Italia ...|    20220614|\n",
      "| 38|  9320|Bruna Nogueira- i...|           null|                null|         Indefinido|08/04/2022|      8|      4|   2022|Inverno D´Italia ...|    20220614|\n",
      "| 39|  9252|   Bruna Paula-ifood|           null|                null|         Indefinido|01/04/2022|      1|      4|   2022|Inverno D´Italia ...|    20220614|\n",
      "| 40|  9294|  Bruna Souza- ifood|           null|                null|         Indefinido|05/04/2022|      5|      4|   2022|Inverno D´Italia ...|    20220614|\n",
      "| 41|  9280|Bruno Branco Bicu...|           null|                null|         Indefinido|04/04/2022|      4|      4|   2022|Inverno D´Italia ...|    20220614|\n",
      "| 42|  9332|Bárbara De Campos...|           null|                null|         Indefinido|09/04/2022|      9|      4|   2022|Inverno D´Italia ...|    20220614|\n",
      "| 43|  9416|       Camila Barros|           null|                null|         Indefinido|16/04/2022|     16|      4|   2022|Inverno D´Italia ...|    20220614|\n",
      "| 44|  9388|Camila Ferreira D...|           null|                null|         Indefinido|13/04/2022|     13|      4|   2022|Inverno D´Italia ...|    20220614|\n",
      "| 45|  9401| Camila Santos-IFOOD|           null|                null|         Indefinido|14/04/2022|     14|      4|   2022|Inverno D´Italia ...|    20220614|\n",
      "| 46|  9343|         Carla Souza|           null|                null|         Indefinido|10/04/2022|     10|      4|   2022|Inverno D´Italia ...|    20220614|\n",
      "| 47|  9512|Carla Veronesi-IFOOD|           null|                null|         Indefinido|27/04/2022|     27|      4|   2022|Inverno D´Italia ...|    20220614|\n",
      "| 48|  9342|      Carlos Andrade|           null|                null|         Indefinido|10/04/2022|     10|      4|   2022|Inverno D´Italia ...|    20220614|\n",
      "| 49|  9269| Carlos Silva- ifood|           null|                null|         Indefinido|02/04/2022|      2|      4|   2022|Inverno D´Italia ...|    20220614|\n",
      "| 50|  9368|  Carol Branco-IFOOD|           null|                null|         Indefinido|12/04/2022|     12|      4|   2022|Inverno D´Italia ...|    20220614|\n",
      "| 51|  9473|  Carol Godoy- ifood|           null|                null|         Indefinido|22/04/2022|     22|      4|   2022|Inverno D´Italia ...|    20220614|\n",
      "| 52|  9284|    Carolina Camargo|           null|                null|         Indefinido|04/04/2022|      4|      4|   2022|Inverno D´Italia ...|    20220614|\n",
      "| 53|  9246|Caroline Lima Da ...|           null|                null|         Indefinido|01/04/2022|      1|      4|   2022|Inverno D´Italia ...|    20220614|\n",
      "| 54|  9379|   Cesar Salim-IFOOD|           null|                null|         Indefinido|13/04/2022|     13|      4|   2022|Inverno D´Italia ...|    20220614|\n",
      "| 55|  9372| Cibelle Maia- IFOOD|           null|                null|         Indefinido|13/04/2022|     13|      4|   2022|Inverno D´Italia ...|    20220614|\n",
      "| 56|  9490|Cicero Donizete G...|           null|                null|         Indefinido|23/04/2022|     23|      4|   2022|Inverno D´Italia ...|    20220614|\n",
      "| 57|  9513|Claudinei De Oliv...|           null|                null|         Indefinido|27/04/2022|     27|      4|   2022|Inverno D´Italia ...|    20220614|\n",
      "| 58|  9465|Cris Teixeira- IFOOD|           null|                null|         Indefinido|21/04/2022|     21|      4|   2022|Inverno D´Italia ...|    20220614|\n",
      "| 59|  9304|Dani Domingues- i...|           null|                null|         Indefinido|06/04/2022|      6|      4|   2022|Inverno D´Italia ...|    20220614|\n",
      "| 60|  9248|Daniela Barbosa-i...|           null|                null|         Indefinido|01/04/2022|      1|      4|   2022|Inverno D´Italia ...|    20220614|\n",
      "| 61|  9470|Daniel França- ifood|           null|                null|         Indefinido|22/04/2022|     22|      4|   2022|Inverno D´Italia ...|    20220614|\n",
      "| 62|  9423|Daniel Furlan Car...|           null|                null|         Indefinido|16/04/2022|     16|      4|   2022|Inverno D´Italia ...|    20220614|\n",
      "| 63|  9429|Danielle Bueno Da...|           null|                null|         Indefinido|16/04/2022|     16|      4|   2022|Inverno D´Italia ...|    20220614|\n",
      "| 64|  9491|  Daniel Sousa-ifood|           null|                null|         Indefinido|23/04/2022|     23|      4|   2022|Inverno D´Italia ...|    20220614|\n",
      "| 65|  9434|  Daniel Zago- ifood|           null|                null|         Indefinido|17/04/2022|     17|      4|   2022|Inverno D´Italia ...|    20220614|\n",
      "| 66|  9282|Darlyane Buriti- ...|           null|                null|         Indefinido|04/04/2022|      4|      4|   2022|Inverno D´Italia ...|    20220614|\n",
      "| 67|  9281|  Debora Luiz- ifood|           null|                null|         Indefinido|04/04/2022|      4|      4|   2022|Inverno D´Italia ...|    20220614|\n",
      "| 68|  9406|Debora Oliveira-I...|           null|                null|         Indefinido|14/04/2022|     14|      4|   2022|Inverno D´Italia ...|    20220614|\n",
      "| 69|  9520|     Diego M.- ifood|           null|                null|         Indefinido|28/04/2022|     28|      4|   2022|Inverno D´Italia ...|    20220614|\n",
      "| 70|  9376|Diego Reginaldo P...|           null|                null|         Indefinido|13/04/2022|     13|      4|   2022|Inverno D´Italia ...|    20220614|\n",
      "| 71|  9444|Drielly Ferreira-...|           null|                null|         Indefinido|18/04/2022|     18|      4|   2022|Inverno D´Italia ...|    20220614|\n",
      "| 72|  9253|Eduarda Sousa- ifood|           null|                null|         Indefinido|01/04/2022|      1|      4|   2022|Inverno D´Italia ...|    20220614|\n",
      "| 73|  9299|Eliden De Navasqu...|           null|                null|         Indefinido|05/04/2022|      5|      4|   2022|Inverno D´Italia ...|    20220614|\n",
      "| 74|  9485|  Emely Beatriz-loja|           null|                null|         Indefinido|23/04/2022|     23|      4|   2022|Inverno D´Italia ...|    20220614|\n",
      "| 75|  9375|Emerson Vieira- I...|           null|                null|         Indefinido|13/04/2022|     13|      4|   2022|Inverno D´Italia ...|    20220614|\n",
      "| 76|  9456| Emi Kurimori- ifood|           null|                null|         Indefinido|20/04/2022|     20|      4|   2022|Inverno D´Italia ...|    20220614|\n",
      "| 77|  9410|       Erica Queiroz|           null|                null|         Indefinido|15/04/2022|     15|      4|   2022|Inverno D´Italia ...|    20220614|\n",
      "| 78|  9244|Erica Rodrigues Z...|           null|                null|         Indefinido|01/04/2022|      1|      4|   2022|Inverno D´Italia ...|    20220614|\n",
      "| 79|  9471|Estela Gioria- ifood|           null|                null|         Indefinido|22/04/2022|     22|      4|   2022|Inverno D´Italia ...|    20220614|\n",
      "| 80|  9539|Evelyn Lamonica-I...|           null|                null|         Indefinido|30/04/2022|     30|      4|   2022|Inverno D´Italia ...|    20220614|\n",
      "| 81|  9268|Evelyn Martins- i...|           null|                null|         Indefinido|02/04/2022|      2|      4|   2022|Inverno D´Italia ...|    20220614|\n",
      "| 82|  9487|   Evelyn Sart-ifood|           null|                null|         Indefinido|23/04/2022|     23|      4|   2022|Inverno D´Italia ...|    20220614|\n",
      "| 83|  9331|Everton Santos-ifood|           null|                null|         Indefinido|09/04/2022|      9|      4|   2022|Inverno D´Italia ...|    20220614|\n",
      "| 84|  9516|Fabíola Dall'agno...|           null|                null|         Indefinido|27/04/2022|     27|      4|   2022|Inverno D´Italia ...|    20220614|\n",
      "| 85|  9468|         Felipe Levi|(11) 97472-3254|contato.ftasoluco...|Integração MenuDino|22/04/2022|     22|      4|   2022|Inverno D´Italia ...|    20220614|\n",
      "| 86|  9411|    Fernanda Batalha|           null|                null|         Indefinido|15/04/2022|     15|      4|   2022|Inverno D´Italia ...|    20220614|\n",
      "| 87|  9430|Fernanda Cezar- I...|           null|                null|         Indefinido|16/04/2022|     16|      4|   2022|Inverno D´Italia ...|    20220614|\n",
      "| 88|  9421|Fernanda Fontanel...|           null|                null|         Indefinido|16/04/2022|     16|      4|   2022|Inverno D´Italia ...|    20220614|\n",
      "| 89|  9502|Fernando Barroso-...|           null|                null|         Indefinido|25/04/2022|     25|      4|   2022|Inverno D´Italia ...|    20220614|\n",
      "| 90|  9346|       Flávia- ifood|           null|                null|         Indefinido|11/04/2022|     11|      4|   2022|Inverno D´Italia ...|    20220614|\n",
      "| 91|  9355|Flávia Angelis-IFOOD|           null|                null|         Indefinido|11/04/2022|     11|      4|   2022|Inverno D´Italia ...|    20220614|\n",
      "| 92|  9460|  Flávia Secco-ifood|           null|                null|         Indefinido|20/04/2022|     20|      4|   2022|Inverno D´Italia ...|    20220614|\n",
      "| 93|  9286|Francisco Borges-...|           null|                null|         Indefinido|04/04/2022|      4|      4|   2022|Inverno D´Italia ...|    20220614|\n",
      "| 94|  9337|Gabriela Pazotti-...|           null|                null|         Indefinido|09/04/2022|      9|      4|   2022|Inverno D´Italia ...|    20220614|\n",
      "| 95|  9523|Gabriel Barberato...|           null|                null|         Indefinido|28/04/2022|     28|      4|   2022|Inverno D´Italia ...|    20220614|\n",
      "| 96|  9386| Gabriel Brito-ifood|           null|                null|         Indefinido|13/04/2022|     13|      4|   2022|Inverno D´Italia ...|    20220614|\n",
      "| 97|  9345|Gabriele Silva- i...|           null|                null|         Indefinido|11/04/2022|     11|      4|   2022|Inverno D´Italia ...|    20220614|\n",
      "| 98|  9274|Gabriel Fábio- ifood|           null|                null|         Indefinido|02/04/2022|      2|      4|   2022|Inverno D´Italia ...|    20220614|\n",
      "| 99|  9528|Gabrihel Henrique...|           null|                null|         Indefinido|29/04/2022|     29|      4|   2022|Inverno D´Italia ...|    20220614|\n",
      "|100|  9500|Gesiel Magalhães ...|           null|                null|         Indefinido|25/04/2022|     25|      4|   2022|Inverno D´Italia ...|    20220614|\n",
      "|101|  9317|Glaucia Oliveira-...|           null|                null|         Indefinido|07/04/2022|      7|      4|   2022|Inverno D´Italia ...|    20220614|\n",
      "|102|  9426|Gustavo Campos- I...|           null|                null|         Indefinido|16/04/2022|     16|      4|   2022|Inverno D´Italia ...|    20220614|\n",
      "|103|  9313|Gustavo Lourenção...|           null|                null|         Indefinido|07/04/2022|      7|      4|   2022|Inverno D´Italia ...|    20220614|\n",
      "|104|  9370|Gustavo Martins- ...|           null|                null|         Indefinido|13/04/2022|     13|      4|   2022|Inverno D´Italia ...|    20220614|\n",
      "|105|  9525|Hellen Oliveira-I...|           null|                null|         Indefinido|28/04/2022|     28|      4|   2022|Inverno D´Italia ...|    20220614|\n",
      "|106|  9481|     Heloisa Miranda|(11) 95652-5455|helomiranda2@hotm...|Integração MenuDino|23/04/2022|     23|      4|   2022|Inverno D´Italia ...|    20220614|\n",
      "|107|  9324|Henrique Simoura-...|           null|                null|         Indefinido|08/04/2022|      8|      4|   2022|Inverno D´Italia ...|    20220614|\n",
      "|108|  9272| Henrique S Q- ifood|           null|                null|         Indefinido|02/04/2022|      2|      4|   2022|Inverno D´Italia ...|    20220614|\n",
      "|109|  9446|Isabela Gercke-ifood|           null|                null|         Indefinido|18/04/2022|     18|      4|   2022|Inverno D´Italia ...|    20220614|\n",
      "|110|  9279|Isabela Sapucci- ...|           null|                null|         Indefinido|03/04/2022|      3|      4|   2022|Inverno D´Italia ...|    20220614|\n",
      "|111|  9419|             ISABELI|           null|                null|         Indefinido|16/04/2022|     16|      4|   2022|Inverno D´Italia ...|    20220614|\n",
      "|112|  9405|Isabella Caroline...|           null|                null|         Indefinido|14/04/2022|     14|      4|   2022|Inverno D´Italia ...|    20220614|\n",
      "|113|  9344|      Isabella Muner|           null|                null|         Indefinido|10/04/2022|     10|      4|   2022|Inverno D´Italia ...|    20220614|\n",
      "|114|  9428|Isabella Pinheiro...|           null|                null|         Indefinido|16/04/2022|     16|      4|   2022|Inverno D´Italia ...|    20220614|\n",
      "|115|  9522|Isabelly Campos-i...|           null|                null|         Indefinido|28/04/2022|     28|      4|   2022|Inverno D´Italia ...|    20220614|\n",
      "|116|  9245|Isadora Nasciment...|           null|                null|         Indefinido|01/04/2022|      1|      4|   2022|Inverno D´Italia ...|    20220614|\n",
      "|117|  9479|Izabella Luiza-IFOOD|           null|                null|         Indefinido|22/04/2022|     22|      4|   2022|Inverno D´Italia ...|    20220614|\n",
      "|118|  9398|Jacqueline Lisboa...|           null|                null|         Indefinido|14/04/2022|     14|      4|   2022|Inverno D´Italia ...|    20220614|\n",
      "|119|  9467|Jade Guadalupe- I...|           null|                null|         Indefinido|21/04/2022|     21|      4|   2022|Inverno D´Italia ...|    20220614|\n",
      "|120|  9265|Jakeline Cesilla-...|           null|                null|         Indefinido|02/04/2022|      2|      4|   2022|Inverno D´Italia ...|    20220614|\n",
      "|121|  9472|Jefferson Domingo...|           null|                null|         Indefinido|22/04/2022|     22|      4|   2022|Inverno D´Italia ...|    20220614|\n",
      "|122|  9433|Jefferson Gama- i...|           null|                null|         Indefinido|17/04/2022|     17|      4|   2022|Inverno D´Italia ...|    20220614|\n",
      "|123|  9292|Jefferson Vericim...|           null|                null|         Indefinido|05/04/2022|      5|      4|   2022|Inverno D´Italia ...|    20220614|\n",
      "|124|  9415|Jessica Coradini ...|           null|                null|         Indefinido|16/04/2022|     16|      4|   2022|Inverno D´Italia ...|    20220614|\n",
      "|125|  9422|Joice Mariano- IFOOD|           null|                null|         Indefinido|16/04/2022|     16|      4|   2022|Inverno D´Italia ...|    20220614|\n",
      "|126|  9363|          Juan Sousa|           null|                null|         Indefinido|12/04/2022|     12|      4|   2022|Inverno D´Italia ...|    20220614|\n",
      "|127|  9367|   Julia Acedo-IFOOD|           null|                null|         Indefinido|12/04/2022|     12|      4|   2022|Inverno D´Italia ...|    20220614|\n",
      "|128|  9301|   Julia Dondi-ifood|           null|                null|         Indefinido|05/04/2022|      5|      4|   2022|Inverno D´Italia ...|    20220614|\n",
      "|129|  9298|Julia Maria Ruys ...|           null|                null|         Indefinido|05/04/2022|      5|      4|   2022|Inverno D´Italia ...|    20220614|\n",
      "|130|  9303|Juliana Moraes- i...|           null|                null|         Indefinido|06/04/2022|      6|      4|   2022|Inverno D´Italia ...|    20220614|\n",
      "|131|  9335| Julia Verutti-IFOOD|           null|                null|         Indefinido|09/04/2022|      9|      4|   2022|Inverno D´Italia ...|    20220614|\n",
      "|132|  9302|Julyemerson Ferre...|           null|                null|         Indefinido|05/04/2022|      5|      4|   2022|Inverno D´Italia ...|    20220614|\n",
      "|133|  9389|             Jussara|(11) 96370-6539|jusarasill@gmail....|Integração MenuDino|14/04/2022|     14|      4|   2022|Inverno D´Italia ...|    20220614|\n",
      "|134|  9333|   Jão Mariano-ifood|           null|                null|         Indefinido|09/04/2022|      9|      4|   2022|Inverno D´Italia ...|    20220614|\n",
      "|135|  9489|Kaline Martins-ifood|           null|                null|         Indefinido|23/04/2022|     23|      4|   2022|Inverno D´Italia ...|    20220614|\n",
      "|136|  9437|Kamila Vieira- ifood|           null|                null|         Indefinido|17/04/2022|     17|      4|   2022|Inverno D´Italia ...|    20220614|\n",
      "|137|  9432|  Karen Silva- ifood|           null|                null|         Indefinido|17/04/2022|     17|      4|   2022|Inverno D´Italia ...|    20220614|\n",
      "|138|  9476|Karina Borges De ...|           null|                null|         Indefinido|22/04/2022|     22|      4|   2022|Inverno D´Italia ...|    20220614|\n",
      "|139|  9519|Karina Oliveira- ...|           null|                null|         Indefinido|28/04/2022|     28|      4|   2022|Inverno D´Italia ...|    20220614|\n",
      "|140|  9353|Karla Freitas- ifood|           null|                null|         Indefinido|11/04/2022|     11|      4|   2022|Inverno D´Italia ...|    20220614|\n",
      "|141|  9296|Katarina Rossi Ga...|           null|                null|         Indefinido|05/04/2022|      5|      4|   2022|Inverno D´Italia ...|    20220614|\n",
      "|142|  9247|  Kauany Frige-ifood|           null|                null|         Indefinido|01/04/2022|      1|      4|   2022|Inverno D´Italia ...|    20220614|\n",
      "|143|  9349| Kaue Navarro- ifood|           null|                null|         Indefinido|11/04/2022|     11|      4|   2022|Inverno D´Italia ...|    20220614|\n",
      "|144|  9501|  Kauê Crispim-IFOOD|           null|                null|         Indefinido|25/04/2022|     25|      4|   2022|Inverno D´Italia ...|    20220614|\n",
      "|145|  9270|Kayla Aparecida H...|           null|                null|         Indefinido|02/04/2022|      2|      4|   2022|Inverno D´Italia ...|    20220614|\n",
      "|146|  9515|Kelly Cristina Ol...|           null|                null|         Indefinido|27/04/2022|     27|      4|   2022|Inverno D´Italia ...|    20220614|\n",
      "|147|  9336|        Klecri-IFOOD|           null|                null|         Indefinido|09/04/2022|      9|      4|   2022|Inverno D´Italia ...|    20220614|\n",
      "|148|  9449|Lara Domingues-ifood|           null|                null|         Indefinido|18/04/2022|     18|      4|   2022|Inverno D´Italia ...|    20220614|\n",
      "|149|  9495|      Larissa- ifood|           null|                null|         Indefinido|25/04/2022|     25|      4|   2022|Inverno D´Italia ...|    20220614|\n",
      "|150|  9385| Larissa Alves-ifood|           null|                null|         Indefinido|13/04/2022|     13|      4|   2022|Inverno D´Italia ...|    20220614|\n",
      "|151|  9321|Larissa Spadin- i...|           null|                null|         Indefinido|08/04/2022|      8|      4|   2022|Inverno D´Italia ...|    20220614|\n",
      "|152|  9352| Laura Cilene- ifood|           null|                null|         Indefinido|11/04/2022|     11|      4|   2022|Inverno D´Italia ...|    20220614|\n",
      "|153|  9497| Laura Martin- ifood|           null|                null|         Indefinido|25/04/2022|     25|      4|   2022|Inverno D´Italia ...|    20220614|\n",
      "|154|  9488|Laura Menezes Fre...|           null|                null|         Indefinido|23/04/2022|     23|      4|   2022|Inverno D´Italia ...|    20220614|\n",
      "|155|  9532|   Laís Rubino-ifood|           null|                null|         Indefinido|29/04/2022|     29|      4|   2022|Inverno D´Italia ...|    20220614|\n",
      "|156|  9409|          Leh Araújo|           null|                null|         Indefinido|15/04/2022|     15|      4|   2022|Inverno D´Italia ...|    20220614|\n",
      "|157|  9466|   Leila Fava- IFOOD|           null|                null|         Indefinido|21/04/2022|     21|      4|   2022|Inverno D´Italia ...|    20220614|\n",
      "|158|  9365|Leonardo Villalob...|           null|                null|         Indefinido|12/04/2022|     12|      4|   2022|Inverno D´Italia ...|    20220614|\n",
      "|159|  9278|      Letícia- ifood|           null|                null|         Indefinido|03/04/2022|      3|      4|   2022|Inverno D´Italia ...|    20220614|\n",
      "|160|  9524| Letícia Barca-IFOOD|           null|                null|         Indefinido|28/04/2022|     28|      4|   2022|Inverno D´Italia ...|    20220614|\n",
      "|161|  9354|Letícia Massei-ifood|           null|                null|         Indefinido|11/04/2022|     11|      4|   2022|Inverno D´Italia ...|    20220614|\n",
      "|162|  9408|Letícia Vieira-ifood|           null|                null|         Indefinido|14/04/2022|     14|      4|   2022|Inverno D´Italia ...|    20220614|\n",
      "|163|  9538|      Liliana- IFOOD|           null|                null|         Indefinido|30/04/2022|     30|      4|   2022|Inverno D´Italia ...|    20220614|\n",
      "|164|  9242|  Liz Siqueira-ifood|           null|                null|         Indefinido|01/04/2022|      1|      4|   2022|Inverno D´Italia ...|    20220614|\n",
      "|165|  9402|Luanne Oliveira-LOJA|           null|                null|         Indefinido|14/04/2022|     14|      4|   2022|Inverno D´Italia ...|    20220614|\n",
      "|166|  9521|   Luara Brum- ifood|           null|                null|         Indefinido|28/04/2022|     28|      4|   2022|Inverno D´Italia ...|    20220614|\n",
      "|167|  9249|      Luara Tanussia|           null|                null|         Indefinido|01/04/2022|      1|      4|   2022|Inverno D´Italia ...|    20220614|\n",
      "|168|  9257| Lucas Binotti-IFOOD|           null|                null|         Indefinido|01/04/2022|      1|      4|   2022|Inverno D´Italia ...|    20220614|\n",
      "|169|  9307|  Lucas Bueno- ifood|           null|                null|         Indefinido|06/04/2022|      6|      4|   2022|Inverno D´Italia ...|    20220614|\n",
      "|170|  9458|    Lucas Leme-ifood|           null|                null|         Indefinido|20/04/2022|     20|      4|   2022|Inverno D´Italia ...|    20220614|\n",
      "|171|  9420|Lucas Oliveira- I...|           null|                null|         Indefinido|16/04/2022|     16|      4|   2022|Inverno D´Italia ...|    20220614|\n",
      "|172|  9289| Lucas Ribeker-IFOOD|           null|                null|         Indefinido|04/04/2022|      4|      4|   2022|Inverno D´Italia ...|    20220614|\n",
      "|173|  9305|Ludmila Oliveira-...|           null|                null|         Indefinido|06/04/2022|      6|      4|   2022|Inverno D´Italia ...|    20220614|\n",
      "|174|  9480|Luiza Sacrini Esp...|           null|                null|         Indefinido|22/04/2022|     22|      4|   2022|Inverno D´Italia ...|    20220614|\n",
      "|175|  9417|Luma Viana Dos Sa...|           null|                null|         Indefinido|16/04/2022|     16|      4|   2022|Inverno D´Italia ...|    20220614|\n",
      "|176|  9322| Luísa Arruda- ifood|           null|                null|         Indefinido|08/04/2022|      8|      4|   2022|Inverno D´Italia ...|    20220614|\n",
      "|177|  9510|   Luís Sousa- ifood|           null|                null|         Indefinido|27/04/2022|     27|      4|   2022|Inverno D´Italia ...|    20220614|\n",
      "|178|  9314|Magna Garcia Xime...|           null|                null|         Indefinido|07/04/2022|      7|      4|   2022|Inverno D´Italia ...|    20220614|\n",
      "|179|  9308|      Maju ._.-IFOOD|           null|                null|         Indefinido|06/04/2022|      6|      4|   2022|Inverno D´Italia ...|    20220614|\n",
      "|180|  9264|Manuela Morais Ma...|           null|                null|         Indefinido|02/04/2022|      2|      4|   2022|Inverno D´Italia ...|    20220614|\n",
      "|181|  9478|Marcela Titanelli...|           null|                null|         Indefinido|22/04/2022|     22|      4|   2022|Inverno D´Italia ...|    20220614|\n",
      "|182|  9334|Marcella Zanella-...|           null|                null|         Indefinido|09/04/2022|      9|      4|   2022|Inverno D´Italia ...|    20220614|\n",
      "|183|  9356|  Marcos Felix-IFOOD|           null|                null|         Indefinido|11/04/2022|     11|      4|   2022|Inverno D´Italia ...|    20220614|\n",
      "|184|  9535|         Maria-ifood|           null|                null|         Indefinido|29/04/2022|     29|      4|   2022|Inverno D´Italia ...|    20220614|\n",
      "|185|  9533|Maria Baracioli-i...|           null|                null|         Indefinido|29/04/2022|     29|      4|   2022|Inverno D´Italia ...|    20220614|\n",
      "|186|  9255|Maria Clara Ferna...|           null|                null|         Indefinido|01/04/2022|      1|      4|   2022|Inverno D´Italia ...|    20220614|\n",
      "|187|  9377|Maria Domingues- ...|           null|                null|         Indefinido|13/04/2022|     13|      4|   2022|Inverno D´Italia ...|    20220614|\n",
      "|188|  9492|Maria Eduarda Spe...|           null|                null|         Indefinido|23/04/2022|     23|      4|   2022|Inverno D´Italia ...|    20220614|\n",
      "|189|  9427|Maria Fernanda Ar...|           null|                null|         Indefinido|16/04/2022|     16|      4|   2022|Inverno D´Italia ...|    20220614|\n",
      "|190|  9330|Maria Lorena Sant...|           null|                null|         Indefinido|09/04/2022|      9|      4|   2022|Inverno D´Italia ...|    20220614|\n",
      "|191|  9266|Mariana Andrade- ...|           null|                null|         Indefinido|02/04/2022|      2|      4|   2022|Inverno D´Italia ...|    20220614|\n",
      "|192|  9323|Mariana Passos- i...|           null|                null|         Indefinido|08/04/2022|      8|      4|   2022|Inverno D´Italia ...|    20220614|\n",
      "|193|  9259|Maria Regina Gall...|           null|                null|         Indefinido|01/04/2022|      1|      4|   2022|Inverno D´Italia ...|    20220614|\n",
      "|194|  9327|Maria Victoria Ap...|           null|                null|         Indefinido|09/04/2022|      9|      4|   2022|Inverno D´Italia ...|    20220614|\n",
      "|195|  9508|Marina Rebechi-ifood|           null|                null|         Indefinido|26/04/2022|     26|      4|   2022|Inverno D´Italia ...|    20220614|\n",
      "|196|  9504|Marly Oliveira- i...|           null|                null|         Indefinido|26/04/2022|     26|      4|   2022|Inverno D´Italia ...|    20220614|\n",
      "|197|  9509|Mary Hellen Matta...|           null|                null|         Indefinido|26/04/2022|     26|      4|   2022|Inverno D´Italia ...|    20220614|\n",
      "|198|  9399|Mary Hellen Matta...|           null|                null|         Indefinido|14/04/2022|     14|      4|   2022|Inverno D´Italia ...|    20220614|\n",
      "|199|  9541|       Mateus- IFOOD|           null|                null|         Indefinido|30/04/2022|     30|      4|   2022|Inverno D´Italia ...|    20220614|\n",
      "|200|  9484|Matheuss Coreia- ...|           null|                null|         Indefinido|23/04/2022|     23|      4|   2022|Inverno D´Italia ...|    20220614|\n",
      "|201|  9387|  Mayara Rossi-ifood|           null|                null|         Indefinido|13/04/2022|     13|      4|   2022|Inverno D´Italia ...|    20220614|\n",
      "|202|  9275|              Maycon|(19) 99697-2818|moraismaycon@yaho...|Integração MenuDino|02/04/2022|      2|      4|   2022|Inverno D´Italia ...|    20220614|\n",
      "|203|  9395|Micaela Meles- ifood|           null|                null|         Indefinido|14/04/2022|     14|      4|   2022|Inverno D´Italia ...|    20220614|\n",
      "|204|  9297|   Milena Leme-ifood|           null|                null|         Indefinido|05/04/2022|      5|      4|   2022|Inverno D´Italia ...|    20220614|\n",
      "|205|  9455|Mylena Pedroso-IFOOD|           null|                null|         Indefinido|19/04/2022|     19|      4|   2022|Inverno D´Italia ...|    20220614|\n",
      "|206|  9529| Nadine Alves- ifood|           null|                null|         Indefinido|29/04/2022|     29|      4|   2022|Inverno D´Italia ...|    20220614|\n",
      "|207|  9436|              Naiara|(41) 99537-7003|naiarajohn@gmail.com|Integração MenuDino|17/04/2022|     17|      4|   2022|Inverno D´Italia ...|    20220614|\n",
      "|208|  9445|Naicha Santos- ifood|           null|                null|         Indefinido|18/04/2022|     18|      4|   2022|Inverno D´Italia ...|    20220614|\n",
      "|209|  9518|Natalia Mayume- i...|           null|                null|         Indefinido|28/04/2022|     28|      4|   2022|Inverno D´Italia ...|    20220614|\n",
      "|210|  9530|Natasha Desirée- ...|           null|                null|         Indefinido|29/04/2022|     29|      4|   2022|Inverno D´Italia ...|    20220614|\n",
      "|211|  9288|Nathali Amaral-ifood|           null|                null|         Indefinido|04/04/2022|      4|      4|   2022|Inverno D´Italia ...|    20220614|\n",
      "|212|  9359|Natália Gonçalves...|           null|                null|         Indefinido|12/04/2022|     12|      4|   2022|Inverno D´Italia ...|    20220614|\n",
      "|213|  9263|Nayara Borges- ifood|           null|                null|         Indefinido|02/04/2022|      2|      4|   2022|Inverno D´Italia ...|    20220614|\n",
      "|214|  9443| Nicole Godoi- ifood|           null|                null|         Indefinido|18/04/2022|     18|      4|   2022|Inverno D´Italia ...|    20220614|\n",
      "|215|  9483|Nicoly Cecília Fe...|           null|                null|         Indefinido|23/04/2022|     23|      4|   2022|Inverno D´Italia ...|    20220614|\n",
      "|216|  9325|       Olívia Vieira|           null|                null|         Indefinido|08/04/2022|      8|      4|   2022|Inverno D´Italia ...|    20220614|\n",
      "|217|  9435| Paloma Silva- ifood|           null|                null|         Indefinido|17/04/2022|     17|      4|   2022|Inverno D´Italia ...|    20220614|\n",
      "|218|  9254|Pamela Cristina-i...|           null|                null|         Indefinido|01/04/2022|      1|      4|   2022|Inverno D´Italia ...|    20220614|\n",
      "|219|  9273|Pamela Monique- i...|           null|                null|         Indefinido|02/04/2022|      2|      4|   2022|Inverno D´Italia ...|    20220614|\n",
      "|220|  9494|        Pamela Souza|           null|                null|         Indefinido|24/04/2022|     24|      4|   2022|Inverno D´Italia ...|    20220614|\n",
      "|221|  9243|Pamella Peixoto-i...|           null|                null|         Indefinido|01/04/2022|      1|      4|   2022|Inverno D´Italia ...|    20220614|\n",
      "|222|  9256|Patricia Bueno-IFOOD|           null|                null|         Indefinido|01/04/2022|      1|      4|   2022|Inverno D´Italia ...|    20220614|\n",
      "|223|  9311| Patrícia Reis-IFOOD|           null|                null|         Indefinido|06/04/2022|      6|      4|   2022|Inverno D´Italia ...|    20220614|\n",
      "|224|  9447|Patrícia Silva-ifood|           null|                null|         Indefinido|18/04/2022|     18|      4|   2022|Inverno D´Italia ...|    20220614|\n",
      "|225|  9464|Paula Bellotto- I...|           null|                null|         Indefinido|21/04/2022|     21|      4|   2022|Inverno D´Italia ...|    20220614|\n",
      "|226|  9418| Paula Martins-IFOOD|           null|                null|         Indefinido|16/04/2022|     16|      4|   2022|Inverno D´Italia ...|    20220614|\n",
      "|227|  9453|       Paula Nikaido|           null|                null|         Indefinido|19/04/2022|     19|      4|   2022|Inverno D´Italia ...|    20220614|\n",
      "|228|  9461|  Pedro Yamada-ifood|           null|                null|         Indefinido|20/04/2022|     20|      4|   2022|Inverno D´Italia ...|    20220614|\n",
      "|229|  9403|Priscila Moraes-I...|           null|                null|         Indefinido|14/04/2022|     14|      4|   2022|Inverno D´Italia ...|    20220614|\n",
      "|230|  9390|             Rafaela|(11) 97395-5171|rafaelamello948@g...|Integração MenuDino|14/04/2022|     14|      4|   2022|Inverno D´Italia ...|    20220614|\n",
      "|231|  9309|Rafaela Moretao-I...|           null|                null|         Indefinido|06/04/2022|      6|      4|   2022|Inverno D´Italia ...|    20220614|\n",
      "|232|  9361|Rafaela Prado- ifood|           null|                null|         Indefinido|12/04/2022|     12|      4|   2022|Inverno D´Italia ...|    20220614|\n",
      "|233|  9514|Rafaela Souza Cin...|           null|                null|         Indefinido|27/04/2022|     27|      4|   2022|Inverno D´Italia ...|    20220614|\n",
      "|234|  9300|Rafael Krueger-IFOOD|           null|                null|         Indefinido|05/04/2022|      5|      4|   2022|Inverno D´Italia ...|    20220614|\n",
      "|235|  9293| Rafael Souza- ifood|           null|                null|         Indefinido|05/04/2022|      5|      4|   2022|Inverno D´Italia ...|    20220614|\n",
      "|236|  9267|Raphaela Lima- ifood|           null|                null|         Indefinido|02/04/2022|      2|      4|   2022|Inverno D´Italia ...|    20220614|\n",
      "|237|  9482|Raquel Inacio- ifood|           null|                null|         Indefinido|23/04/2022|     23|      4|   2022|Inverno D´Italia ...|    20220614|\n",
      "|238|  9271| Raul Antonio- ifood|           null|                null|         Indefinido|02/04/2022|      2|      4|   2022|Inverno D´Italia ...|    20220614|\n",
      "|239|  9382| Rebeca França-IFOOD|           null|                null|         Indefinido|13/04/2022|     13|      4|   2022|Inverno D´Italia ...|    20220614|\n",
      "|240|  9393|Rebecca Mazzani- ...|           null|                null|         Indefinido|14/04/2022|     14|      4|   2022|Inverno D´Italia ...|    20220614|\n",
      "|241|  9369|Regiane Tomiyasu-...|           null|                null|         Indefinido|13/04/2022|     13|      4|   2022|Inverno D´Italia ...|    20220614|\n",
      "|242|  9312| Ricardo Filho-ifood|           null|                null|         Indefinido|07/04/2022|      7|      4|   2022|Inverno D´Italia ...|    20220614|\n",
      "|243|  9261|  ROBERTA COLAGRANDE|(11) 99516-6952|roberta.colagrand...|Integração MenuDino|02/04/2022|      2|      4|   2022|Inverno D´Italia ...|    20220614|\n",
      "|244|  9295|Roberto Carlos Jú...|           null|                null|         Indefinido|05/04/2022|      5|      4|   2022|Inverno D´Italia ...|    20220614|\n",
      "|245|  9378|        Roberto gomd|           null|                null|         Indefinido|13/04/2022|     13|      4|   2022|Inverno D´Italia ...|    20220614|\n",
      "|246|  9462|      Rodrigo- ifood|           null|                null|         Indefinido|21/04/2022|     21|      4|   2022|Inverno D´Italia ...|    20220614|\n",
      "|247|  9260|Rodrigo Bernal-IFOOD|           null|                null|         Indefinido|01/04/2022|      1|      4|   2022|Inverno D´Italia ...|    20220614|\n",
      "|248|  9371|Rodrigo Da Silva ...|           null|                null|         Indefinido|13/04/2022|     13|      4|   2022|Inverno D´Italia ...|    20220614|\n",
      "|249|  9351|Rodrigo Monteiro-...|           null|                null|         Indefinido|11/04/2022|     11|      4|   2022|Inverno D´Italia ...|    20220614|\n",
      "|250|  9364|     Ronaldo Andrade|           null|                null|         Indefinido|12/04/2022|     12|      4|   2022|Inverno D´Italia ...|    20220614|\n",
      "|251|  9440|              ROSALI|           null|                null|         Indefinido|18/04/2022|     18|      4|   2022|Inverno D´Italia ...|    20220614|\n",
      "|252|  9540| Rose Rogati - IFOOD|           null|                null|         Indefinido|30/04/2022|     30|      4|   2022|Inverno D´Italia ...|    20220614|\n",
      "|253|  9459| Sabrina Viana-ifood|           null|                null|         Indefinido|20/04/2022|     20|      4|   2022|Inverno D´Italia ...|    20220614|\n",
      "|254|  9531|Samuel Rodrigues-...|           null|                null|         Indefinido|29/04/2022|     29|      4|   2022|Inverno D´Italia ...|    20220614|\n",
      "|255|  9452|       Sara Brandine|           null|                null|         Indefinido|19/04/2022|     19|      4|   2022|Inverno D´Italia ...|    20220614|\n",
      "|256|  9328|    Sara Paula-ifood|           null|                null|         Indefinido|09/04/2022|      9|      4|   2022|Inverno D´Italia ...|    20220614|\n",
      "|257|  9250|Silmara Climaco D...|           null|                null|         Indefinido|01/04/2022|      1|      4|   2022|Inverno D´Italia ...|    20220614|\n",
      "|258|  9450| Simone Moraes-IFOOD|           null|                null|         Indefinido|18/04/2022|     18|      4|   2022|Inverno D´Italia ...|    20220614|\n",
      "|259|  9357|Stefany Oliveira ...|           null|                null|         Indefinido|11/04/2022|     11|      4|   2022|Inverno D´Italia ...|    20220614|\n",
      "|260|  9527|Suelem Cavalcante...|           null|                null|         Indefinido|29/04/2022|     29|      4|   2022|Inverno D´Italia ...|    20220614|\n",
      "|261|  9326|       Susana Borges|           null|                null|         Indefinido|08/04/2022|      8|      4|   2022|Inverno D´Italia ...|    20220614|\n",
      "|262|  9384|Taciele Barbosa-i...|           null|                null|         Indefinido|13/04/2022|     13|      4|   2022|Inverno D´Italia ...|    20220614|\n",
      "|263|  9287|Tamires Cintra-ifood|           null|                null|         Indefinido|04/04/2022|      4|      4|   2022|Inverno D´Italia ...|    20220614|\n",
      "|264|  9412|   Tamires Gonçalves|           null|                null|         Indefinido|15/04/2022|     15|      4|   2022|Inverno D´Italia ...|    20220614|\n",
      "|265|  9441|Tamires Magda- ifood|           null|                null|         Indefinido|18/04/2022|     18|      4|   2022|Inverno D´Italia ...|    20220614|\n",
      "|266|  9318| Tamires Suher-ifood|           null|                null|         Indefinido|07/04/2022|      7|      4|   2022|Inverno D´Italia ...|    20220614|\n",
      "|267|  9407|Tarsyla Macedo To...|           null|                null|         Indefinido|14/04/2022|     14|      4|   2022|Inverno D´Italia ...|    20220614|\n",
      "|268|  9526|Tatiane Destro- i...|           null|                null|         Indefinido|29/04/2022|     29|      4|   2022|Inverno D´Italia ...|    20220614|\n",
      "|269|  9391|Tatiane Silva- IFOOD|           null|                null|         Indefinido|14/04/2022|     14|      4|   2022|Inverno D´Italia ...|    20220614|\n",
      "|270|  9493|Tatiane Vieira-ifood|           null|                null|         Indefinido|23/04/2022|     23|      4|   2022|Inverno D´Italia ...|    20220614|\n",
      "|271|  9347| Tauana Reche- ifood|           null|                null|         Indefinido|11/04/2022|     11|      4|   2022|Inverno D´Italia ...|    20220614|\n",
      "|272|  9439|    Thaiane Oliveira|(11) 97100-5777|thaianeoliveira.t...|Integração MenuDino|18/04/2022|     18|      4|   2022|Inverno D´Italia ...|    20220614|\n",
      "|273|  9392|Thaisa Buenno- IFOOD|           null|                null|         Indefinido|14/04/2022|     14|      4|   2022|Inverno D´Italia ...|    20220614|\n",
      "|274|  9310|Thaisa Medeiros-I...|           null|                null|         Indefinido|06/04/2022|      6|      4|   2022|Inverno D´Italia ...|    20220614|\n",
      "|275|  9534|  Thais Moraes-ifood|           null|                null|         Indefinido|29/04/2022|     29|      4|   2022|Inverno D´Italia ...|    20220614|\n",
      "|276|  9381|  Thais Tafuri-IFOOD|           null|                null|         Indefinido|13/04/2022|     13|      4|   2022|Inverno D´Italia ...|    20220614|\n",
      "|277|  9438|Thalles Pires Mor...|           null|                null|         Indefinido|17/04/2022|     17|      4|   2022|Inverno D´Italia ...|    20220614|\n",
      "|278|  9362|Tiffany Galasso- ...|           null|                null|         Indefinido|12/04/2022|     12|      4|   2022|Inverno D´Italia ...|    20220614|\n",
      "|279|  9503|Vair Silva Neto-I...|           null|                null|         Indefinido|25/04/2022|     25|      4|   2022|Inverno D´Italia ...|    20220614|\n",
      "|280|  9469|Valeria Pereira- ...|           null|                null|         Indefinido|22/04/2022|     22|      4|   2022|Inverno D´Italia ...|    20220614|\n",
      "|281|  9511|       Victor- IFOOD|           null|                null|         Indefinido|27/04/2022|     27|      4|   2022|Inverno D´Italia ...|    20220614|\n",
      "|282|  9486|Victoria Cordeiro...|           null|                null|         Indefinido|23/04/2022|     23|      4|   2022|Inverno D´Italia ...|    20220614|\n",
      "|283|  9477|Victoria Yazhi Da...|           null|                null|         Indefinido|22/04/2022|     22|      4|   2022|Inverno D´Italia ...|    20220614|\n",
      "|284|  9400|Vitor Splendore-I...|           null|                null|         Indefinido|14/04/2022|     14|      4|   2022|Inverno D´Italia ...|    20220614|\n",
      "|285|  9383|Vitória Hearthfil...|           null|                null|         Indefinido|13/04/2022|     13|      4|   2022|Inverno D´Italia ...|    20220614|\n",
      "|286|  9373|Viviane Marino- I...|           null|                null|         Indefinido|13/04/2022|     13|      4|   2022|Inverno D´Italia ...|    20220614|\n",
      "|287|  9396|Wagner Santos De ...|           null|                null|         Indefinido|14/04/2022|     14|      4|   2022|Inverno D´Italia ...|    20220614|\n",
      "|288|  9537|Yasmim Mariah- IFOOD|           null|                null|         Indefinido|30/04/2022|     30|      4|   2022|Inverno D´Italia ...|    20220614|\n",
      "|289|  9340|Yasmin Gazzaneo- ...|           null|                null|         Indefinido|09/04/2022|      9|      4|   2022|Inverno D´Italia ...|    20220614|\n",
      "|290|  9348|Yasmin Miranda- i...|           null|                null|         Indefinido|11/04/2022|     11|      4|   2022|Inverno D´Italia ...|    20220614|\n",
      "+---+------+--------------------+---------------+--------------------+-------------------+----------+-------+-------+-------+--------------------+------------+\n",
      "\n"
     ]
    }
   ],
   "source": [
    "df_clientes.show(n=10000)"
   ]
  }
 ],
 "metadata": {
  "kernelspec": {
   "display_name": "Python 3 (ipykernel)",
   "language": "python",
   "name": "python3"
  },
  "language_info": {
   "codemirror_mode": {
    "name": "ipython",
    "version": 3
   },
   "file_extension": ".py",
   "mimetype": "text/x-python",
   "name": "python",
   "nbconvert_exporter": "python",
   "pygments_lexer": "ipython3",
   "version": "3.9.10"
  }
 },
 "nbformat": 4,
 "nbformat_minor": 5
}
